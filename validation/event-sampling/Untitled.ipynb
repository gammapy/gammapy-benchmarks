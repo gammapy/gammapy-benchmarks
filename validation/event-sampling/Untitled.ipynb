{
 "cells": [
  {
   "cell_type": "code",
   "execution_count": 1,
   "metadata": {},
   "outputs": [],
   "source": [
    "import logging\n",
    "import multiprocessing\n",
    "import warnings\n",
    "from itertools import repeat\n",
    "from pathlib import Path\n",
    "\n",
    "import astropy.units as u\n",
    "import click\n",
    "import matplotlib.pyplot as plt\n",
    "import numpy as np\n",
    "from astropy.coordinates import SkyCoord\n",
    "from astropy.table import Table\n",
    "from regions import CircleSkyRegion\n",
    "from scipy.stats import norm\n",
    "\n",
    "from gammapy.data import GTI, EventList, Observation\n",
    "from gammapy.datasets import MapDataset, MapDatasetEventSampler\n",
    "from gammapy.estimators import ExcessMapEstimator\n",
    "from gammapy.irf import EnergyDispersion2D, load_cta_irfs\n",
    "from gammapy.makers import MapDatasetMaker\n",
    "from gammapy.maps import Map, MapAxis, WcsGeom\n",
    "from gammapy.modeling import Fit\n",
    "from gammapy.modeling.models import Models, FoVBackgroundModel\n",
    "from gammapy.utils.table import table_from_row_data"
   ]
  },
  {
   "cell_type": "code",
   "execution_count": 2,
   "metadata": {},
   "outputs": [
    {
     "data": {
      "text/plain": [
       "'0.20.1'"
      ]
     },
     "execution_count": 2,
     "metadata": {},
     "output_type": "execute_result"
    }
   ],
   "source": [
    "import gammapy\n",
    "gammapy.__version__"
   ]
  },
  {
   "cell_type": "code",
   "execution_count": 3,
   "metadata": {},
   "outputs": [],
   "source": [
    "from gammapy.modeling.models import (\n",
    "    Model,\n",
    "    Models,\n",
    "    SkyModel,\n",
    "    PowerLawSpectralModel,\n",
    "    PointSpatialModel,\n",
    "    DiskSpatialModel,\n",
    "    GaussianSpatialModel,\n",
    "    TemplateSpatialModel,\n",
    "    ExpCutoffPowerLawSpectralModel,\n",
    "    LogParabolaSpectralModel,\n",
    "    PowerLaw2SpectralModel,\n",
    "    ExpCutoffPowerLaw3FGLSpectralModel,\n",
    "    SuperExpCutoffPowerLaw4FGLSpectralModel,\n",
    "    PowerLawNormSpectralModel,\n",
    "    FoVBackgroundModel,\n",
    "    TemplateSpectralModel,\n",
    ")"
   ]
  },
  {
   "cell_type": "code",
   "execution_count": 4,
   "metadata": {},
   "outputs": [],
   "source": [
    "BASE_PATH = Path(\"make.py\").parent\n",
    "\n",
    "AVAILABLE_MODELS = [\n",
    "    \"point-pwl\",\n",
    "    \"point-ecpl\",\n",
    "    \"point-log-parabola\",\n",
    "    \"point-pwl2\",\n",
    "    \"point-ecpl-3fgl\",\n",
    "    \"point-ecpl-4fgl\",\n",
    "    \"point-template\",\n",
    "    \"diffuse-cube\",\n",
    "    \"disk-pwl\",\n",
    "    \"gauss-pwl\",\n",
    "]\n",
    "\n",
    "DPI = 120\n",
    "\n",
    "# observation config\n",
    "IRF_FILE = (\"$GAMMAPY_DATA/cta-caldb/\"+\n",
    "            \"Prod5-South-20deg-AverageAz-14MSTs37SSTs.180000s-v0.1.fits.gz\")\n",
    "\n",
    "POINTING = SkyCoord(0.0, 0.5, frame=\"galactic\", unit=\"deg\")\n",
    "LIVETIME = 1 * u.hr\n",
    "GTI_TABLE = GTI.create(start=0 * u.s, stop=LIVETIME.to(u.s))\n",
    "\n",
    "# dataset config\n",
    "ENERGY_AXIS = MapAxis.from_energy_bounds(\"0.1 TeV\", \"100 TeV\", \n",
    "                                         nbin=10, per_decade=True)\n",
    "ENERGY_AXIS_TRUE = MapAxis.from_energy_bounds(\n",
    "    \"0.03 TeV\", \"300 TeV\", nbin=20, per_decade=True, name=\"energy_true\"\n",
    ")\n",
    "MIGRA_AXIS = MapAxis.from_bounds(0.5, 2, nbin=150, \n",
    "                                 node_type=\"edges\", name=\"migra\")\n",
    "\n",
    "WCS_GEOM = WcsGeom.create(\n",
    "    skydir=POINTING, width=(2, 2), binsz=0.02, \n",
    "    frame=\"galactic\", axes=[ENERGY_AXIS]\n",
    ")"
   ]
  },
  {
   "cell_type": "code",
   "execution_count": 5,
   "metadata": {},
   "outputs": [],
   "source": [
    "irfs = load_cta_irfs(IRF_FILE)\n",
    "observation = Observation.create(\n",
    "    obs_id=1001, pointing=POINTING, livetime=LIVETIME, irfs=irfs\n",
    ")\n",
    "\n",
    "empty = MapDataset.create(\n",
    "    WCS_GEOM, energy_axis_true=ENERGY_AXIS_TRUE, migra_axis=MIGRA_AXIS\n",
    ")\n",
    "maker = MapDatasetMaker(selection=[\"exposure\", \"background\", \n",
    "                                   \"psf\", \"edisp\"])\n",
    "dataset = maker.run(empty, observation)\n",
    "\n",
    "filename_dataset = (\"/Users/fabiopintore/LAVORO/Gammapy/\"+\n",
    "              \"gammapy-benchmarks/validation/event-sampling/\"\n",
    "              +\"data/dataset_1h.fits.gz\")\n",
    "dataset.write(filename_dataset, overwrite=True)"
   ]
  },
  {
   "cell_type": "code",
   "execution_count": 6,
   "metadata": {},
   "outputs": [],
   "source": [
    "#dataset = MapDataset.read(filename_dataset)\n",
    "\n",
    "filename_events = (\"/Users/fabiopintore/LAVORO/Gammapy/\"\n",
    "                  + \"gammapy-benchmarks/validation/\" +\n",
    "                    \"event-sampling/data/models/point-pwl/\" + \n",
    "                    \"events_1h_0000.fits.gz\")\n",
    "events = EventList.read(filename_events)\n",
    "\n",
    "counts = Map.from_geom(WCS_GEOM)\n",
    "counts.fill_events(events)\n",
    "dataset.counts = counts"
   ]
  },
  {
   "cell_type": "code",
   "execution_count": 7,
   "metadata": {},
   "outputs": [
    {
     "data": {
      "text/plain": [
       "<WCSAxesSubplot:xlabel='Galactic Longitude', ylabel='Galactic Latitude'>"
      ]
     },
     "execution_count": 7,
     "metadata": {},
     "output_type": "execute_result"
    },
    {
     "data": {
      "image/png": "[encoded data removed]",
      "text/plain": [
       "<Figure size 432x288 with 1 Axes>"
      ]
     },
     "metadata": {
      "needs_background": "light"
     },
     "output_type": "display_data"
    }
   ],
   "source": [
    "counts.reduce_over_axes().plot()"
   ]
  },
  {
   "cell_type": "code",
   "execution_count": 8,
   "metadata": {},
   "outputs": [],
   "source": [
    "filename_model = (\"/Users/fabiopintore/LAVORO/Gammapy/\"\n",
    "                 +\"gammapy-benchmarks/validation/event-sampling/\"\n",
    "                 +\"models/point-pwl.yaml\")\n",
    "models = Models.read(filename_model)\n",
    "\n",
    "models.append(FoVBackgroundModel(dataset_name=dataset.name))\n",
    "\n",
    "dataset.models = models"
   ]
  },
  {
   "cell_type": "code",
   "execution_count": 9,
   "metadata": {},
   "outputs": [],
   "source": [
    "spatial_model = PointSpatialModel(lon_0=\"20.0 deg\",\n",
    "                          lat_0=\"11.0 deg\",\n",
    "                          frame=\"galactic\")\n",
    "\n",
    "spectral_model = PowerLawSpectralModel(\n",
    "                index=2.0,\n",
    "                amplitude=\"1e-12 TeV-1 cm-2 s-1\",\n",
    "                reference=\"1 TeV\"\n",
    "                )\n",
    "\n",
    "sky_model = SkyModel(spectral_model = spectral_model,\n",
    "             spatial_model = spatial_model,\n",
    "             name=\"test_source\")\n",
    "\n",
    "models = Models([sky_model, FoVBackgroundModel(dataset_name=dataset.name)])"
   ]
  },
  {
   "cell_type": "code",
   "execution_count": 10,
   "metadata": {},
   "outputs": [
    {
     "name": "stdout",
     "output_type": "stream",
     "text": [
      "DatasetModels\n",
      "\n",
      "Component 0: SkyModel\n",
      "\n",
      "  Name                      : test_source\n",
      "  Datasets names            : None\n",
      "  Spectral model type       : PowerLawSpectralModel\n",
      "  Spatial  model type       : PointSpatialModel\n",
      "  Temporal model type       : \n",
      "  Parameters:\n",
      "    index                         :      2.000   +/-    0.00             \n",
      "    amplitude                     :   1.00e-12   +/- 0.0e+00 1 / (cm2 s TeV)\n",
      "    reference             (frozen):      1.000       TeV         \n",
      "    lon_0                         :     20.000   +/-    0.00 deg         \n",
      "    lat_0                         :     11.000   +/-    0.00 deg         \n",
      "\n",
      "Component 1: FoVBackgroundModel\n",
      "\n",
      "  Name                      : imVKP5HW-bkg\n",
      "  Datasets names            : ['imVKP5HW']\n",
      "  Spectral model type       : PowerLawNormSpectralModel\n",
      "  Parameters:\n",
      "    norm                          :      1.000   +/-    0.00             \n",
      "    tilt                  (frozen):      0.000                   \n",
      "    reference             (frozen):      1.000       TeV         \n",
      "\n",
      "\n"
     ]
    }
   ],
   "source": [
    "dataset.models = models\n",
    "print(dataset.models)"
   ]
  },
  {
   "cell_type": "code",
   "execution_count": 11,
   "metadata": {},
   "outputs": [],
   "source": [
    "#dataset.fake()"
   ]
  },
  {
   "cell_type": "code",
   "execution_count": 12,
   "metadata": {},
   "outputs": [
    {
     "name": "stderr",
     "output_type": "stream",
     "text": [
      "Position <SkyCoord (Galactic): (l, b) in deg\n",
      "    (20., 11.)> is outside valid IRF map range, using nearest IRF defined within\n"
     ]
    }
   ],
   "source": [
    "fit = Fit()\n",
    "result = fit.run(dataset)"
   ]
  },
  {
   "cell_type": "code",
   "execution_count": 15,
   "metadata": {},
   "outputs": [
    {
     "data": {
      "text/plain": [
       "\u001b[0;31mSignature:\u001b[0m\n",
       "\u001b[0mspectral_model\u001b[0m\u001b[0;34m.\u001b[0m\u001b[0mplot\u001b[0m\u001b[0;34m(\u001b[0m\u001b[0;34m\u001b[0m\n",
       "\u001b[0;34m\u001b[0m    \u001b[0menergy_bounds\u001b[0m\u001b[0;34m,\u001b[0m\u001b[0;34m\u001b[0m\n",
       "\u001b[0;34m\u001b[0m    \u001b[0max\u001b[0m\u001b[0;34m=\u001b[0m\u001b[0;32mNone\u001b[0m\u001b[0;34m,\u001b[0m\u001b[0;34m\u001b[0m\n",
       "\u001b[0;34m\u001b[0m    \u001b[0msed_type\u001b[0m\u001b[0;34m=\u001b[0m\u001b[0;34m'dnde'\u001b[0m\u001b[0;34m,\u001b[0m\u001b[0;34m\u001b[0m\n",
       "\u001b[0;34m\u001b[0m    \u001b[0menergy_power\u001b[0m\u001b[0;34m=\u001b[0m\u001b[0;36m0\u001b[0m\u001b[0;34m,\u001b[0m\u001b[0;34m\u001b[0m\n",
       "\u001b[0;34m\u001b[0m    \u001b[0mn_points\u001b[0m\u001b[0;34m=\u001b[0m\u001b[0;36m100\u001b[0m\u001b[0;34m,\u001b[0m\u001b[0;34m\u001b[0m\n",
       "\u001b[0;34m\u001b[0m    \u001b[0;34m**\u001b[0m\u001b[0mkwargs\u001b[0m\u001b[0;34m,\u001b[0m\u001b[0;34m\u001b[0m\n",
       "\u001b[0;34m\u001b[0m\u001b[0;34m)\u001b[0m\u001b[0;34m\u001b[0m\u001b[0;34m\u001b[0m\u001b[0m\n",
       "\u001b[0;31mDocstring:\u001b[0m\n",
       "Plot spectral model curve.\n",
       "\n",
       "kwargs are forwarded to `matplotlib.pyplot.plot`\n",
       "\n",
       "By default a log-log scaling of the axes is used, if you want to change\n",
       "the y axis scaling to linear you can use::\n",
       "\n",
       "    from gammapy.modeling.models import ExpCutoffPowerLawSpectralModel\n",
       "    from astropy import units as u\n",
       "\n",
       "    pwl = ExpCutoffPowerLawSpectralModel()\n",
       "    ax = pwl.plot(energy_bounds=(0.1, 100) * u.TeV)\n",
       "    ax.set_yscale('linear')\n",
       "\n",
       "Parameters\n",
       "----------\n",
       "ax : `~matplotlib.axes.Axes`, optional\n",
       "    Axis\n",
       "energy_bounds : `~astropy.units.Quantity`\n",
       "    Plot energy bounds passed to MapAxis.from_energy_bounds\n",
       "sed_type : {\"dnde\", \"flux\", \"eflux\", \"e2dnde\"}\n",
       "    Evaluation methods of the model\n",
       "energy_power : int, optional\n",
       "    Power of energy to multiply flux axis with\n",
       "n_points : int, optional\n",
       "    Number of evaluation nodes\n",
       "**kwargs : dict\n",
       "    Keyword arguments forwarded to `~matplotlib.pyplot.plot`\n",
       "\n",
       "Returns\n",
       "-------\n",
       "ax : `~matplotlib.axes.Axes`, optional\n",
       "    Axis\n",
       "\u001b[0;31mFile:\u001b[0m      ~/opt/anaconda3/envs/gammapy-0.20.1/lib/python3.8/site-packages/gammapy/modeling/models/spectral.py\n",
       "\u001b[0;31mType:\u001b[0m      method\n"
      ]
     },
     "metadata": {},
     "output_type": "display_data"
    }
   ],
   "source": [
    "models[0].spectral_model.plot?"
   ]
  },
  {
   "cell_type": "code",
   "execution_count": null,
   "metadata": {},
   "outputs": [],
   "source": []
  },
  {
   "cell_type": "code",
   "execution_count": 4,
   "metadata": {},
   "outputs": [],
   "source": [
    "POINTING = SkyCoord(70.0, 0.5, frame=\"galactic\", unit=\"deg\")\n",
    "LIVETIME = 10 * u.hr\n",
    "\n",
    "IRF_FILE = (\"$GAMMAPY_DATA/cta-caldb/\"+\n",
    "            \"Prod5-South-20deg-AverageAz-14MSTs37SSTs.180000s-v0.1.fits.gz\")\n",
    "irfs = load_cta_irfs(IRF_FILE)"
   ]
  },
  {
   "cell_type": "code",
   "execution_count": 5,
   "metadata": {},
   "outputs": [],
   "source": [
    "# Define map geometry for binned simulation\n",
    "energy_reco = MapAxis.from_bounds(0.5, 200, nbin=20, unit=\"TeV\", name=\"energy\", interp=\"log\")\n",
    "geom = WcsGeom.create(\n",
    "    skydir=POINTING,\n",
    "    binsz=0.02,\n",
    "    width=(3, 3),\n",
    "    frame=\"galactic\",\n",
    "    axes=[energy_reco],\n",
    ")\n",
    "# It is usually useful to have a separate binning for the true energy axis\n",
    "energy_true = MapAxis.from_bounds(0.1, 300, nbin=30, unit=\"TeV\", name=\"energy_true\", interp=\"log\")\n",
    "\n",
    "empty = MapDataset.create(\n",
    "    geom, name=\"dataset-simu\", energy_axis_true=energy_true\n",
    ")"
   ]
  },
  {
   "cell_type": "code",
   "execution_count": 6,
   "metadata": {},
   "outputs": [],
   "source": [
    "obs = Observation.create(\n",
    "    pointing=POINTING, livetime=LIVETIME, irfs=irfs,\n",
    ")"
   ]
  },
  {
   "cell_type": "code",
   "execution_count": 7,
   "metadata": {},
   "outputs": [],
   "source": [
    "maker = MapDatasetMaker(selection=[\"exposure\", \"background\", \"psf\", \"edisp\"])\n",
    "dataset = maker.run(empty, obs)"
   ]
  },
  {
   "cell_type": "code",
   "execution_count": 8,
   "metadata": {},
   "outputs": [],
   "source": [
    "spatial_model = PointSpatialModel(lon_0=\"70.0 deg\",\n",
    "                          lat_0=\"1.0 deg\",\n",
    "                          frame=\"galactic\")\n",
    "\n",
    "spectral_model = PowerLawSpectralModel(\n",
    "                index=2.0,\n",
    "                amplitude=\"1e-12 TeV-1 cm-2 s-1\",\n",
    "                reference=\"1 TeV\"\n",
    "                )\n",
    "\n",
    "sky_model = SkyModel(spectral_model = spectral_model,\n",
    "             spatial_model = spatial_model,\n",
    "             name=\"test_source\")\n",
    "\n",
    "models = Models([sky_model, FoVBackgroundModel(dataset_name=dataset.name)])"
   ]
  },
  {
   "cell_type": "code",
   "execution_count": 9,
   "metadata": {},
   "outputs": [],
   "source": [
    "dataset.models = models\n",
    "dataset.fake()"
   ]
  },
  {
   "cell_type": "code",
   "execution_count": 10,
   "metadata": {},
   "outputs": [
    {
     "name": "stdout",
     "output_type": "stream",
     "text": [
      "MapDataset\n",
      "----------\n",
      "\n",
      "  Name                            : dataset-simu \n",
      "\n",
      "  Total counts                    : 22691 \n",
      "  Total background counts         : 22130.77\n",
      "  Total excess counts             : 560.23\n",
      "\n",
      "  Predicted counts                : 22798.67\n",
      "  Predicted background counts     : 22130.77\n",
      "  Predicted excess counts         : 667.89\n",
      "\n",
      "  Exposure min                    : 6.35e+09 m2 s\n",
      "  Exposure max                    : 1.37e+11 m2 s\n",
      "\n",
      "  Number of total bins            : 450000 \n",
      "  Number of fit bins              : 450000 \n",
      "\n",
      "  Fit statistic type              : cash\n",
      "  Fit statistic value (-2 log(L)) : 128737.87\n",
      "\n",
      "  Number of models                : 2 \n",
      "  Number of parameters            : 8\n",
      "  Number of free parameters       : 5\n",
      "\n",
      "  Component 0: SkyModel\n",
      "  \n",
      "    Name                      : test_source\n",
      "    Datasets names            : None\n",
      "    Spectral model type       : PowerLawSpectralModel\n",
      "    Spatial  model type       : PointSpatialModel\n",
      "    Temporal model type       : \n",
      "    Parameters:\n",
      "      index                         :      2.000   +/-    0.00             \n",
      "      amplitude                     :   1.00e-12   +/- 0.0e+00 1 / (cm2 s TeV)\n",
      "      reference             (frozen):      1.000       TeV         \n",
      "      lon_0                         :     70.000   +/-    0.00 deg         \n",
      "      lat_0                         :      1.000   +/-    0.00 deg         \n",
      "  \n",
      "  Component 1: FoVBackgroundModel\n",
      "  \n",
      "    Name                      : dataset-simu-bkg\n",
      "    Datasets names            : ['dataset-simu']\n",
      "    Spectral model type       : PowerLawNormSpectralModel\n",
      "    Parameters:\n",
      "      norm                          :      1.000   +/-    0.00             \n",
      "      tilt                  (frozen):      0.000                   \n",
      "      reference             (frozen):      1.000       TeV         \n",
      "  \n",
      "  \n"
     ]
    }
   ],
   "source": [
    "print(dataset)"
   ]
  },
  {
   "cell_type": "code",
   "execution_count": 11,
   "metadata": {},
   "outputs": [
    {
     "data": {
      "text/plain": [
       "<WCSAxesSubplot:xlabel='Galactic Longitude', ylabel='Galactic Latitude'>"
      ]
     },
     "execution_count": 11,
     "metadata": {},
     "output_type": "execute_result"
    },
    {
     "data": {
      "image/png": "[encoded data removed]",
      "text/plain": [
       "<Figure size 432x288 with 1 Axes>"
      ]
     },
     "metadata": {
      "needs_background": "light"
     },
     "output_type": "display_data"
    }
   ],
   "source": [
    "dataset.counts.sum_over_axes().plot()"
   ]
  },
  {
   "cell_type": "code",
   "execution_count": 12,
   "metadata": {},
   "outputs": [
    {
     "name": "stderr",
     "output_type": "stream",
     "text": [
      "Position <SkyCoord (Galactic): (l, b) in deg\n",
      "    (71.75196279, 1.)> is outside valid IRF map range, using nearest IRF defined within\n",
      "Position <SkyCoord (Galactic): (l, b) in deg\n",
      "    (71.75196279, 1.)> is outside valid IRF map range, using nearest IRF defined within\n",
      "Position <SkyCoord (Galactic): (l, b) in deg\n",
      "    (68.24803721, 1.)> is outside valid IRF map range, using nearest IRF defined within\n",
      "Position <SkyCoord (Galactic): (l, b) in deg\n",
      "    (68.24803721, 1.)> is outside valid IRF map range, using nearest IRF defined within\n"
     ]
    }
   ],
   "source": [
    "fit = Fit(optimize_opts={\"print_level\": 1})\n",
    "result = fit.run(datasets=[dataset])"
   ]
  },
  {
   "cell_type": "code",
   "execution_count": null,
   "metadata": {},
   "outputs": [],
   "source": []
  }
 ],
 "metadata": {
  "kernelspec": {
   "display_name": "Python 3 (ipykernel)",
   "language": "python",
   "name": "python3"
  },
  "language_info": {
   "codemirror_mode": {
    "name": "ipython",
    "version": 3
   },
   "file_extension": ".py",
   "mimetype": "text/x-python",
   "name": "python",
   "nbconvert_exporter": "python",
   "pygments_lexer": "ipython3",
   "version": "3.8.13"
  }
 },
 "nbformat": 4,
 "nbformat_minor": 4
}

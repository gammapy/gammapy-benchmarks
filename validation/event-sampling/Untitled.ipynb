{
 "cells": [
  {
   "cell_type": "code",
   "execution_count": 1,
   "metadata": {},
   "outputs": [],
   "source": [
    "import logging\n",
    "import multiprocessing\n",
    "import warnings\n",
    "from itertools import repeat\n",
    "from pathlib import Path\n",
    "\n",
    "import astropy.units as u\n",
    "from astropy.time import Time\n",
    "import click\n",
    "import matplotlib.pyplot as plt\n",
    "import numpy as np\n",
    "from astropy.coordinates import SkyCoord, Angle\n",
    "from astropy.table import Table\n",
    "from regions import CircleSkyRegion\n",
    "from scipy.stats import norm\n",
    "\n",
    "from gammapy.data import GTI, EventList, Observation, Observations\n",
    "from gammapy.datasets import MapDataset, MapDatasetEventSampler, Datasets, SpectrumDataset, FluxPointsDataset\n",
    "from gammapy.estimators import ExcessMapEstimator, LightCurveEstimator\n",
    "from gammapy.irf import EnergyDispersion2D, load_cta_irfs\n",
    "from gammapy.makers import MapDatasetMaker, FoVBackgroundMaker, SpectrumDatasetMaker, ReflectedRegionsBackgroundMaker\n",
    "from gammapy.maps import Map, MapAxis, WcsGeom, RegionGeom\n",
    "from gammapy.modeling import Fit\n",
    "from gammapy.modeling.models import Models, FoVBackgroundModel\n",
    "from gammapy.utils.table import table_from_row_data"
   ]
  },
  {
   "cell_type": "code",
   "execution_count": 2,
   "metadata": {},
   "outputs": [
    {
     "data": {
      "text/plain": [
       "'0.20.1'"
      ]
     },
     "execution_count": 2,
     "metadata": {},
     "output_type": "execute_result"
    }
   ],
   "source": [
    "import gammapy\n",
    "gammapy.__version__"
   ]
  },
  {
   "cell_type": "code",
   "execution_count": 64,
   "metadata": {},
   "outputs": [],
   "source": [
    "from gammapy.modeling.models import (\n",
    "    Model,\n",
    "    Models,\n",
    "    SkyModel,\n",
    "    PowerLawSpectralModel,\n",
    "    PointSpatialModel,\n",
    "    DiskSpatialModel,\n",
    "    GaussianSpatialModel,\n",
    "    TemplateSpatialModel,\n",
    "    ExpCutoffPowerLawSpectralModel,\n",
    "    LogParabolaSpectralModel,\n",
    "    PowerLaw2SpectralModel,\n",
    "    ExpCutoffPowerLaw3FGLSpectralModel,\n",
    "    SuperExpCutoffPowerLaw4FGLSpectralModel,\n",
    "    PowerLawNormSpectralModel,\n",
    "    FoVBackgroundModel,\n",
    "    TemplateSpectralModel,\n",
    "    ExpDecayTemporalModel,\n",
    "    GaussianTemporalModel,\n",
    "    LightCurveTemplateTemporalModel,\n",
    ")"
   ]
  },
  {
   "cell_type": "code",
   "execution_count": 4,
   "metadata": {},
   "outputs": [],
   "source": [
    "BASE_PATH = Path(\"make.py\").parent\n",
    "\n",
    "AVAILABLE_MODELS = [\n",
    "    \"point-pwl\",\n",
    "    \"point-ecpl\",\n",
    "    \"point-log-parabola\",\n",
    "    \"point-pwl2\",\n",
    "    \"point-ecpl-3fgl\",\n",
    "    \"point-ecpl-4fgl\",\n",
    "    \"point-template\",\n",
    "    \"diffuse-cube\",\n",
    "    \"disk-pwl\",\n",
    "    \"gauss-pwl\",\n",
    "    \"point-pwl-expdecay\",\n",
    "]\n",
    "\n",
    "DPI = 120\n",
    "\n",
    "# observation config\n",
    "IRF_FILE = (\"$GAMMAPY_DATA/cta-caldb/\"+\n",
    "            \"Prod5-South-20deg-AverageAz-14MSTs37SSTs.180000s-v0.1.fits.gz\")\n",
    "\n",
    "POINTING = SkyCoord(0.0, 0.5, frame=\"galactic\", unit=\"deg\")\n",
    "LIVETIME = 1 * u.hr\n",
    "GTI_TABLE = GTI.create(start=0 * u.s, stop=LIVETIME.to(u.s))\n",
    "\n",
    "# dataset config\n",
    "ENERGY_AXIS = MapAxis.from_energy_bounds(\"0.1 TeV\", \"100 TeV\", \n",
    "                                         nbin=10, per_decade=True)\n",
    "ENERGY_AXIS_TRUE = MapAxis.from_energy_bounds(\n",
    "    \"0.03 TeV\", \"300 TeV\", nbin=20, per_decade=True, name=\"energy_true\"\n",
    ")\n",
    "MIGRA_AXIS = MapAxis.from_bounds(0.5, 2, nbin=150, \n",
    "                                 node_type=\"edges\", name=\"migra\")\n",
    "\n",
    "WCS_GEOM = WcsGeom.create(\n",
    "    skydir=POINTING, width=(2, 2), binsz=0.02, \n",
    "    frame=\"galactic\", axes=[ENERGY_AXIS]\n",
    ")"
   ]
  },
  {
   "cell_type": "code",
   "execution_count": 5,
   "metadata": {},
   "outputs": [],
   "source": [
    "irfs = load_cta_irfs(IRF_FILE)\n",
    "observation = Observation.create(\n",
    "    obs_id=1001, pointing=POINTING, livetime=LIVETIME, irfs=irfs\n",
    ")\n",
    "\n",
    "empty = MapDataset.create(\n",
    "    WCS_GEOM, energy_axis_true=ENERGY_AXIS_TRUE, migra_axis=MIGRA_AXIS\n",
    ")\n",
    "maker = MapDatasetMaker(selection=[\"exposure\", \"background\", \n",
    "                                   \"psf\", \"edisp\"])\n",
    "dataset = maker.run(empty, observation)\n",
    "\n",
    "filename_dataset = (\"/Users/fabiopintore/LAVORO/Gammapy/\"+\n",
    "              \"gammapy-benchmarks/validation/event-sampling/\"\n",
    "              +\"data/dataset_1h.fits.gz\")\n",
    "dataset.write(filename_dataset, overwrite=True)"
   ]
  },
  {
   "cell_type": "code",
   "execution_count": 6,
   "metadata": {},
   "outputs": [],
   "source": [
    "#dataset = MapDataset.read(filename_dataset)\n",
    "\n",
    "filename_events = (\"/Users/fabiopintore/LAVORO/Gammapy/\"\n",
    "                  + \"gammapy-benchmarks/validation/\" +\n",
    "                    \"event-sampling/data/models/point-pwl/\" + \n",
    "                    \"events_1h_0000.fits.gz\")\n",
    "events = EventList.read(filename_events)\n",
    "\n",
    "counts = Map.from_geom(WCS_GEOM)\n",
    "counts.fill_events(events)\n",
    "dataset.counts = counts"
   ]
  },
  {
   "cell_type": "code",
   "execution_count": 7,
   "metadata": {},
   "outputs": [
    {
     "data": {
      "text/plain": [
       "<WCSAxesSubplot:xlabel='Galactic Longitude', ylabel='Galactic Latitude'>"
      ]
     },
     "execution_count": 7,
     "metadata": {},
     "output_type": "execute_result"
    },
    {
     "data": {
      "image/png": "[encoded data removed]",
      "text/plain": [
       "<Figure size 432x288 with 1 Axes>"
      ]
     },
     "metadata": {
      "needs_background": "light"
     },
     "output_type": "display_data"
    }
   ],
   "source": [
    "counts.reduce_over_axes().plot()"
   ]
  },
  {
   "cell_type": "code",
   "execution_count": 33,
   "metadata": {},
   "outputs": [],
   "source": [
    "filename_model = (\"/Users/fabiopintore/LAVORO/Gammapy/\"\n",
    "                 +\"gammapy-benchmarks/validation/event-sampling/\"\n",
    "                 +\"models/point-pwl.yaml\")\n",
    "models = Models.read(filename_model)\n",
    "\n",
    "models.append(FoVBackgroundModel(dataset_name=dataset.name))\n",
    "\n",
    "dataset.models = models"
   ]
  },
  {
   "cell_type": "code",
   "execution_count": 35,
   "metadata": {},
   "outputs": [
    {
     "data": {
      "text/plain": [
       "'point-pwl'"
      ]
     },
     "execution_count": 35,
     "metadata": {},
     "output_type": "execute_result"
    }
   ],
   "source": [
    "dataset.models[0].name"
   ]
  },
  {
   "cell_type": "code",
   "execution_count": 9,
   "metadata": {},
   "outputs": [],
   "source": [
    "spatial_model = PointSpatialModel(lon_0=\"20.0 deg\",\n",
    "                          lat_0=\"11.0 deg\",\n",
    "                          frame=\"galactic\")\n",
    "\n",
    "spectral_model = PowerLawSpectralModel(\n",
    "                index=2.0,\n",
    "                amplitude=\"1e-12 TeV-1 cm-2 s-1\",\n",
    "                reference=\"1 TeV\"\n",
    "                )\n",
    "\n",
    "sky_model = SkyModel(spectral_model = spectral_model,\n",
    "             spatial_model = spatial_model,\n",
    "             name=\"test_source\")\n",
    "\n",
    "models = Models([sky_model, FoVBackgroundModel(dataset_name=dataset.name)])"
   ]
  },
  {
   "cell_type": "code",
   "execution_count": 10,
   "metadata": {},
   "outputs": [
    {
     "name": "stdout",
     "output_type": "stream",
     "text": [
      "DatasetModels\n",
      "\n",
      "Component 0: SkyModel\n",
      "\n",
      "  Name                      : test_source\n",
      "  Datasets names            : None\n",
      "  Spectral model type       : PowerLawSpectralModel\n",
      "  Spatial  model type       : PointSpatialModel\n",
      "  Temporal model type       : \n",
      "  Parameters:\n",
      "    index                         :      2.000   +/-    0.00             \n",
      "    amplitude                     :   1.00e-12   +/- 0.0e+00 1 / (cm2 s TeV)\n",
      "    reference             (frozen):      1.000       TeV         \n",
      "    lon_0                         :     20.000   +/-    0.00 deg         \n",
      "    lat_0                         :     11.000   +/-    0.00 deg         \n",
      "\n",
      "Component 1: FoVBackgroundModel\n",
      "\n",
      "  Name                      : imVKP5HW-bkg\n",
      "  Datasets names            : ['imVKP5HW']\n",
      "  Spectral model type       : PowerLawNormSpectralModel\n",
      "  Parameters:\n",
      "    norm                          :      1.000   +/-    0.00             \n",
      "    tilt                  (frozen):      0.000                   \n",
      "    reference             (frozen):      1.000       TeV         \n",
      "\n",
      "\n"
     ]
    }
   ],
   "source": [
    "dataset.models = models\n",
    "print(dataset.models)"
   ]
  },
  {
   "cell_type": "code",
   "execution_count": 11,
   "metadata": {},
   "outputs": [],
   "source": [
    "#dataset.fake()"
   ]
  },
  {
   "cell_type": "code",
   "execution_count": 12,
   "metadata": {},
   "outputs": [
    {
     "name": "stderr",
     "output_type": "stream",
     "text": [
      "Position <SkyCoord (Galactic): (l, b) in deg\n",
      "    (20., 11.)> is outside valid IRF map range, using nearest IRF defined within\n"
     ]
    }
   ],
   "source": [
    "fit = Fit()\n",
    "result = fit.run(dataset)"
   ]
  },
  {
   "cell_type": "code",
   "execution_count": 15,
   "metadata": {},
   "outputs": [
    {
     "data": {
      "text/plain": [
       "\u001b[0;31mSignature:\u001b[0m\n",
       "\u001b[0mspectral_model\u001b[0m\u001b[0;34m.\u001b[0m\u001b[0mplot\u001b[0m\u001b[0;34m(\u001b[0m\u001b[0;34m\u001b[0m\n",
       "\u001b[0;34m\u001b[0m    \u001b[0menergy_bounds\u001b[0m\u001b[0;34m,\u001b[0m\u001b[0;34m\u001b[0m\n",
       "\u001b[0;34m\u001b[0m    \u001b[0max\u001b[0m\u001b[0;34m=\u001b[0m\u001b[0;32mNone\u001b[0m\u001b[0;34m,\u001b[0m\u001b[0;34m\u001b[0m\n",
       "\u001b[0;34m\u001b[0m    \u001b[0msed_type\u001b[0m\u001b[0;34m=\u001b[0m\u001b[0;34m'dnde'\u001b[0m\u001b[0;34m,\u001b[0m\u001b[0;34m\u001b[0m\n",
       "\u001b[0;34m\u001b[0m    \u001b[0menergy_power\u001b[0m\u001b[0;34m=\u001b[0m\u001b[0;36m0\u001b[0m\u001b[0;34m,\u001b[0m\u001b[0;34m\u001b[0m\n",
       "\u001b[0;34m\u001b[0m    \u001b[0mn_points\u001b[0m\u001b[0;34m=\u001b[0m\u001b[0;36m100\u001b[0m\u001b[0;34m,\u001b[0m\u001b[0;34m\u001b[0m\n",
       "\u001b[0;34m\u001b[0m    \u001b[0;34m**\u001b[0m\u001b[0mkwargs\u001b[0m\u001b[0;34m,\u001b[0m\u001b[0;34m\u001b[0m\n",
       "\u001b[0;34m\u001b[0m\u001b[0;34m)\u001b[0m\u001b[0;34m\u001b[0m\u001b[0;34m\u001b[0m\u001b[0m\n",
       "\u001b[0;31mDocstring:\u001b[0m\n",
       "Plot spectral model curve.\n",
       "\n",
       "kwargs are forwarded to `matplotlib.pyplot.plot`\n",
       "\n",
       "By default a log-log scaling of the axes is used, if you want to change\n",
       "the y axis scaling to linear you can use::\n",
       "\n",
       "    from gammapy.modeling.models import ExpCutoffPowerLawSpectralModel\n",
       "    from astropy import units as u\n",
       "\n",
       "    pwl = ExpCutoffPowerLawSpectralModel()\n",
       "    ax = pwl.plot(energy_bounds=(0.1, 100) * u.TeV)\n",
       "    ax.set_yscale('linear')\n",
       "\n",
       "Parameters\n",
       "----------\n",
       "ax : `~matplotlib.axes.Axes`, optional\n",
       "    Axis\n",
       "energy_bounds : `~astropy.units.Quantity`\n",
       "    Plot energy bounds passed to MapAxis.from_energy_bounds\n",
       "sed_type : {\"dnde\", \"flux\", \"eflux\", \"e2dnde\"}\n",
       "    Evaluation methods of the model\n",
       "energy_power : int, optional\n",
       "    Power of energy to multiply flux axis with\n",
       "n_points : int, optional\n",
       "    Number of evaluation nodes\n",
       "**kwargs : dict\n",
       "    Keyword arguments forwarded to `~matplotlib.pyplot.plot`\n",
       "\n",
       "Returns\n",
       "-------\n",
       "ax : `~matplotlib.axes.Axes`, optional\n",
       "    Axis\n",
       "\u001b[0;31mFile:\u001b[0m      ~/opt/anaconda3/envs/gammapy-0.20.1/lib/python3.8/site-packages/gammapy/modeling/models/spectral.py\n",
       "\u001b[0;31mType:\u001b[0m      method\n"
      ]
     },
     "metadata": {},
     "output_type": "display_data"
    }
   ],
   "source": [
    "models[0].spectral_model.plot?"
   ]
  },
  {
   "cell_type": "code",
   "execution_count": null,
   "metadata": {},
   "outputs": [],
   "source": []
  },
  {
   "cell_type": "code",
   "execution_count": 4,
   "metadata": {},
   "outputs": [],
   "source": [
    "POINTING = SkyCoord(70.0, 0.5, frame=\"galactic\", unit=\"deg\")\n",
    "LIVETIME = 10 * u.hr\n",
    "\n",
    "IRF_FILE = (\"$GAMMAPY_DATA/cta-caldb/\"+\n",
    "            \"Prod5-South-20deg-AverageAz-14MSTs37SSTs.180000s-v0.1.fits.gz\")\n",
    "irfs = load_cta_irfs(IRF_FILE)"
   ]
  },
  {
   "cell_type": "code",
   "execution_count": 5,
   "metadata": {},
   "outputs": [],
   "source": [
    "# Define map geometry for binned simulation\n",
    "energy_reco = MapAxis.from_bounds(0.5, 200, nbin=20, unit=\"TeV\", name=\"energy\", interp=\"log\")\n",
    "geom = WcsGeom.create(\n",
    "    skydir=POINTING,\n",
    "    binsz=0.02,\n",
    "    width=(3, 3),\n",
    "    frame=\"galactic\",\n",
    "    axes=[energy_reco],\n",
    ")\n",
    "# It is usually useful to have a separate binning for the true energy axis\n",
    "energy_true = MapAxis.from_bounds(0.1, 300, nbin=30, unit=\"TeV\", name=\"energy_true\", interp=\"log\")\n",
    "\n",
    "empty = MapDataset.create(\n",
    "    geom, name=\"dataset-simu\", energy_axis_true=energy_true\n",
    ")"
   ]
  },
  {
   "cell_type": "code",
   "execution_count": 6,
   "metadata": {},
   "outputs": [],
   "source": [
    "obs = Observation.create(\n",
    "    pointing=POINTING, livetime=LIVETIME, irfs=irfs,\n",
    ")"
   ]
  },
  {
   "cell_type": "code",
   "execution_count": 7,
   "metadata": {},
   "outputs": [],
   "source": [
    "maker = MapDatasetMaker(selection=[\"exposure\", \"background\", \"psf\", \"edisp\"])\n",
    "dataset = maker.run(empty, obs)"
   ]
  },
  {
   "cell_type": "code",
   "execution_count": 8,
   "metadata": {},
   "outputs": [],
   "source": [
    "spatial_model = PointSpatialModel(lon_0=\"70.0 deg\",\n",
    "                          lat_0=\"1.0 deg\",\n",
    "                          frame=\"galactic\")\n",
    "\n",
    "spectral_model = PowerLawSpectralModel(\n",
    "                index=2.0,\n",
    "                amplitude=\"1e-12 TeV-1 cm-2 s-1\",\n",
    "                reference=\"1 TeV\"\n",
    "                )\n",
    "\n",
    "sky_model = SkyModel(spectral_model = spectral_model,\n",
    "             spatial_model = spatial_model,\n",
    "             name=\"test_source\")\n",
    "\n",
    "models = Models([sky_model, FoVBackgroundModel(dataset_name=dataset.name)])"
   ]
  },
  {
   "cell_type": "code",
   "execution_count": 9,
   "metadata": {},
   "outputs": [],
   "source": [
    "dataset.models = models\n",
    "dataset.fake()"
   ]
  },
  {
   "cell_type": "code",
   "execution_count": 10,
   "metadata": {},
   "outputs": [
    {
     "name": "stdout",
     "output_type": "stream",
     "text": [
      "MapDataset\n",
      "----------\n",
      "\n",
      "  Name                            : dataset-simu \n",
      "\n",
      "  Total counts                    : 22691 \n",
      "  Total background counts         : 22130.77\n",
      "  Total excess counts             : 560.23\n",
      "\n",
      "  Predicted counts                : 22798.67\n",
      "  Predicted background counts     : 22130.77\n",
      "  Predicted excess counts         : 667.89\n",
      "\n",
      "  Exposure min                    : 6.35e+09 m2 s\n",
      "  Exposure max                    : 1.37e+11 m2 s\n",
      "\n",
      "  Number of total bins            : 450000 \n",
      "  Number of fit bins              : 450000 \n",
      "\n",
      "  Fit statistic type              : cash\n",
      "  Fit statistic value (-2 log(L)) : 128737.87\n",
      "\n",
      "  Number of models                : 2 \n",
      "  Number of parameters            : 8\n",
      "  Number of free parameters       : 5\n",
      "\n",
      "  Component 0: SkyModel\n",
      "  \n",
      "    Name                      : test_source\n",
      "    Datasets names            : None\n",
      "    Spectral model type       : PowerLawSpectralModel\n",
      "    Spatial  model type       : PointSpatialModel\n",
      "    Temporal model type       : \n",
      "    Parameters:\n",
      "      index                         :      2.000   +/-    0.00             \n",
      "      amplitude                     :   1.00e-12   +/- 0.0e+00 1 / (cm2 s TeV)\n",
      "      reference             (frozen):      1.000       TeV         \n",
      "      lon_0                         :     70.000   +/-    0.00 deg         \n",
      "      lat_0                         :      1.000   +/-    0.00 deg         \n",
      "  \n",
      "  Component 1: FoVBackgroundModel\n",
      "  \n",
      "    Name                      : dataset-simu-bkg\n",
      "    Datasets names            : ['dataset-simu']\n",
      "    Spectral model type       : PowerLawNormSpectralModel\n",
      "    Parameters:\n",
      "      norm                          :      1.000   +/-    0.00             \n",
      "      tilt                  (frozen):      0.000                   \n",
      "      reference             (frozen):      1.000       TeV         \n",
      "  \n",
      "  \n"
     ]
    }
   ],
   "source": [
    "print(dataset)"
   ]
  },
  {
   "cell_type": "code",
   "execution_count": 11,
   "metadata": {},
   "outputs": [
    {
     "data": {
      "text/plain": [
       "<WCSAxesSubplot:xlabel='Galactic Longitude', ylabel='Galactic Latitude'>"
      ]
     },
     "execution_count": 11,
     "metadata": {},
     "output_type": "execute_result"
    },
    {
     "data": {
      "image/png": "[encoded data removed]",
      "text/plain": [
       "<Figure size 432x288 with 1 Axes>"
      ]
     },
     "metadata": {
      "needs_background": "light"
     },
     "output_type": "display_data"
    }
   ],
   "source": [
    "dataset.counts.sum_over_axes().plot()"
   ]
  },
  {
   "cell_type": "code",
   "execution_count": 12,
   "metadata": {},
   "outputs": [
    {
     "name": "stderr",
     "output_type": "stream",
     "text": [
      "Position <SkyCoord (Galactic): (l, b) in deg\n",
      "    (71.75196279, 1.)> is outside valid IRF map range, using nearest IRF defined within\n",
      "Position <SkyCoord (Galactic): (l, b) in deg\n",
      "    (71.75196279, 1.)> is outside valid IRF map range, using nearest IRF defined within\n",
      "Position <SkyCoord (Galactic): (l, b) in deg\n",
      "    (68.24803721, 1.)> is outside valid IRF map range, using nearest IRF defined within\n",
      "Position <SkyCoord (Galactic): (l, b) in deg\n",
      "    (68.24803721, 1.)> is outside valid IRF map range, using nearest IRF defined within\n"
     ]
    }
   ],
   "source": [
    "fit = Fit(optimize_opts={\"print_level\": 1})\n",
    "result = fit.run(datasets=[dataset])"
   ]
  },
  {
   "cell_type": "code",
   "execution_count": null,
   "metadata": {},
   "outputs": [],
   "source": []
  },
  {
   "cell_type": "code",
   "execution_count": 9,
   "metadata": {},
   "outputs": [],
   "source": [
    "filename = f\"data/dataset_{LIVETIME.value:.0f}{LIVETIME.unit}.fits.gz\"\n",
    "file = BASE_PATH / filename"
   ]
  },
  {
   "cell_type": "code",
   "execution_count": 26,
   "metadata": {},
   "outputs": [
    {
     "data": {
      "text/plain": [
       "\u001b[0;31mSignature:\u001b[0m \u001b[0mObservation\u001b[0m\u001b[0;34m.\u001b[0m\u001b[0mread\u001b[0m\u001b[0;34m(\u001b[0m\u001b[0mevent_file\u001b[0m\u001b[0;34m,\u001b[0m \u001b[0mirf_file\u001b[0m\u001b[0;34m=\u001b[0m\u001b[0;32mNone\u001b[0m\u001b[0;34m)\u001b[0m\u001b[0;34m\u001b[0m\u001b[0;34m\u001b[0m\u001b[0m\n",
       "\u001b[0;31mDocstring:\u001b[0m\n",
       "Create an Observation from a Event List and an (optional) IRF file.\n",
       "\n",
       "Parameters\n",
       "----------\n",
       "event_file : str, Path\n",
       "    path to the .fits file containing the event list and the GTI\n",
       "irf_file : str, Path\n",
       "    (optional) path to the .fits file containing the IRF components,\n",
       "    if not provided the IRF will be read from the event file\n",
       "\n",
       "Returns\n",
       "-------\n",
       "observation : `~gammapy.data.Observation`\n",
       "    observation with the events and the irf read from the file\n",
       "\u001b[0;31mFile:\u001b[0m      ~/opt/anaconda3/envs/gammapy-0.20.1/lib/python3.8/site-packages/gammapy/data/observations.py\n",
       "\u001b[0;31mType:\u001b[0m      method\n"
      ]
     },
     "metadata": {},
     "output_type": "display_data"
    }
   ],
   "source": [
    "a=Path(str(file).replace(\"dataset\",\"observation\"))\n",
    "Observation.read?"
   ]
  },
  {
   "cell_type": "markdown",
   "metadata": {},
   "source": [
    "# LC"
   ]
  },
  {
   "cell_type": "code",
   "execution_count": 5,
   "metadata": {},
   "outputs": [],
   "source": [
    "irfs = load_cta_irfs(IRF_FILE)\n",
    "\n",
    "t0 = Time(51544.00074287037, format=\"mjd\", scale=\"tt\")\n",
    "\n",
    "observation = Observation.create(\n",
    "   obs_id=1001, pointing=POINTING, livetime=LIVETIME, irfs=irfs, tstart=t0\n",
    ")"
   ]
  },
  {
   "cell_type": "code",
   "execution_count": 6,
   "metadata": {},
   "outputs": [],
   "source": [
    "filename_dataset = (\"/Users/fabiopintore/LAVORO/Gammapy/gammapy-benchmarks/\"+\n",
    "                    \"validation/event-sampling/data/dataset_1h.fits.gz\")\n",
    "filename_events = (\"/Users/fabiopintore/LAVORO/Gammapy/gammapy-benchmarks/\"+\n",
    "                    \"validation/event-sampling/data/models/point-pwl-gausstemp/events_1h_0000.fits.gz\")\n",
    "\n",
    "# from gammapy.data import DataStore\n",
    "# data_store = DataStore.from_events_files([filename_events])\n",
    "# data_store.obs_table.rename_column('TSTART', 'START')\n",
    "# data_store.obs_table.rename_column('TSTOP', 'STOP')\n",
    "\n",
    "# obs_ids=0\n",
    "# observations = data_store.get_observations([obs_ids])"
   ]
  },
  {
   "cell_type": "code",
   "execution_count": 7,
   "metadata": {},
   "outputs": [],
   "source": [
    "dataset = MapDataset.read(filename_dataset)\n",
    "events = EventList.read(filename_events)\n",
    "counts = Map.from_geom(WCS_GEOM)\n",
    "counts.fill_events(events)\n",
    "dataset.counts = counts\n",
    "observation._events = events"
   ]
  },
  {
   "cell_type": "code",
   "execution_count": null,
   "metadata": {},
   "outputs": [],
   "source": []
  },
  {
   "cell_type": "code",
   "execution_count": 235,
   "metadata": {},
   "outputs": [],
   "source": [
    "# data_store.obs_table.meta['MJDREFF'] = 0.000742870368412695"
   ]
  },
  {
   "cell_type": "code",
   "execution_count": 236,
   "metadata": {},
   "outputs": [],
   "source": [
    "# data_store.obs_table"
   ]
  },
  {
   "cell_type": "code",
   "execution_count": 8,
   "metadata": {},
   "outputs": [],
   "source": [
    "t0 = Time(51544.00074287037, format=\"mjd\", scale=\"tt\")\n",
    "duration = 3 * u.min\n",
    "n_time_bins = 20\n",
    "times = t0 + np.arange(n_time_bins) * duration\n",
    "time_intervals = [\n",
    "    Time([tstart, tstop]) for tstart, tstop in zip(times[:-1], times[1:])\n",
    "]"
   ]
  },
  {
   "cell_type": "code",
   "execution_count": 9,
   "metadata": {},
   "outputs": [],
   "source": [
    "observations = Observations([observation])\n",
    "short_observations = observations.select_time(time_intervals)"
   ]
  },
  {
   "cell_type": "code",
   "execution_count": 10,
   "metadata": {},
   "outputs": [],
   "source": [
    "datasets = Datasets()\n",
    "\n",
    "target = SkyCoord(0.0, 0.0, frame=\"galactic\", unit=\"deg\")\n",
    "on_region_radius = Angle(\"0.11 deg\")\n",
    "on_region = CircleSkyRegion(center=target, radius=on_region_radius)\n",
    "\n",
    "geom = RegionGeom.create(region=on_region, axes=[ENERGY_AXIS])\n",
    "stacked = SpectrumDataset.create(geom, energy_axis_true=ENERGY_AXIS_TRUE)\n",
    "\n",
    "# stacked = MapDataset.create(\n",
    "#     WCS_GEOM, energy_axis_true=ENERGY_AXIS_TRUE, migra_axis=MIGRA_AXIS\n",
    "# )\n",
    "# maker = MapDatasetMaker(selection=[\"counts\", \"exposure\", \"edisp\"])\n",
    "maker = SpectrumDatasetMaker(\n",
    "    containment_correction=True, selection=[\"counts\", \"exposure\", \"edisp\"]\n",
    " )\n",
    "# bkg_maker = ReflectedRegionsBackgroundMaker()\n",
    "\n",
    "#circle = CircleSkyRegion(center=POINTING, radius=0.2 * u.deg)\n",
    "#exclusion_mask = WCS_GEOM.region_mask([circle], inside=False)\n",
    "\n",
    "#fov_bkg_maker = FoVBackgroundMaker(method=\"fit\", exclusion_mask=exclusion_mask)\n",
    "# bkg_maker = FoVBackgroundMaker()\n",
    "bkg_maker = ReflectedRegionsBackgroundMaker()\n",
    "\n",
    "#dataset_new = maker.run(stacked, observation)\n",
    "#dataset_new = fov_bkg_maker.run(dataset_new)\n",
    "#stacked.stack(dataset_new)\n",
    "\n",
    "#dataset_new = maker.run(stacked, observation)\n",
    "#dataset_new = fov_bkg_maker.run(dataset_new)\n",
    "#datasets.append(dataset_new)\n",
    "\n",
    "for obs in short_observations:\n",
    "    #print(obs)\n",
    "    dataset_new = maker.run(stacked.copy(), obs)\n",
    "\n",
    "#    dataset_new = fov_bkg_maker.run(dataset_new, obs)\n",
    "    dataset_new = bkg_maker.run(dataset_new, obs)\n",
    "    datasets.append(dataset_new)"
   ]
  },
  {
   "cell_type": "code",
   "execution_count": 11,
   "metadata": {},
   "outputs": [],
   "source": [
    "spectral_model = PowerLawSpectralModel(\n",
    "    index=2, amplitude=1e-12 * u.Unit(\"1 / (cm2 s TeV)\"), reference=1 * u.TeV\n",
    ")\n",
    "\n",
    "sky_model = SkyModel(\n",
    "    spatial_model=None, spectral_model=spectral_model, name=\"test_source\"\n",
    ")\n",
    "\n",
    "#bkg_model = FoVBackgroundModel(dataset_name=datasets.name)\n"
   ]
  },
  {
   "cell_type": "code",
   "execution_count": 12,
   "metadata": {},
   "outputs": [],
   "source": [
    "datasets.models = sky_model"
   ]
  },
  {
   "cell_type": "code",
   "execution_count": 13,
   "metadata": {},
   "outputs": [],
   "source": [
    "lc_maker_1d = LightCurveEstimator(\n",
    "    energy_edges=[0.1, 10] * u.TeV,\n",
    "    source=\"test_source\",\n",
    "    time_intervals=time_intervals,\n",
    "    selection_optional=None,\n",
    "    n_sigma_ul=3\n",
    ")"
   ]
  },
  {
   "cell_type": "code",
   "execution_count": 14,
   "metadata": {},
   "outputs": [],
   "source": [
    "lc_1d = lc_maker_1d.run(datasets)\n",
    "\n",
    "lc_1d.sqrt_ts_threshold_ul = 3\n",
    "#lc_1d.is_ul.to_table()"
   ]
  },
  {
   "cell_type": "code",
   "execution_count": 15,
   "metadata": {},
   "outputs": [
    {
     "data": {
      "text/plain": [
       "<AxesSubplot:xlabel='Time [iso]', ylabel='dnde (1 / (cm2 s TeV))'>"
      ]
     },
     "execution_count": 15,
     "metadata": {},
     "output_type": "execute_result"
    },
    {
     "data": {
      "image/png": "[encoded data removed]",
      "text/plain": [
       "<Figure size 432x288 with 1 Axes>"
      ]
     },
     "metadata": {
      "needs_background": "light"
     },
     "output_type": "display_data"
    }
   ],
   "source": [
    "lc_1d.plot(marker=\"o\")"
   ]
  },
  {
   "cell_type": "code",
   "execution_count": 68,
   "metadata": {},
   "outputs": [
    {
     "data": {
      "text/plain": [
       "{'MJDREFI': 51544,\n",
       " 'MJDREFF': 0.0007428703684126958,\n",
       " 'TIMESYS': 'tt',\n",
       " 'TIMEUNIT': 's'}"
      ]
     },
     "execution_count": 68,
     "metadata": {},
     "output_type": "execute_result"
    }
   ],
   "source": [
    "meta"
   ]
  },
  {
   "cell_type": "code",
   "execution_count": 69,
   "metadata": {},
   "outputs": [
    {
     "data": {
      "text/plain": [
       "<AxesSubplot:xlabel='Time [iso]', ylabel='Norm / A.U.'>"
      ]
     },
     "execution_count": 69,
     "metadata": {},
     "output_type": "execute_result"
    },
    {
     "data": {
      "image/png": "[encoded data removed]",
      "text/plain": [
       "<Figure size 432x288 with 1 Axes>"
      ]
     },
     "metadata": {
      "needs_background": "light"
     },
     "output_type": "display_data"
    }
   ],
   "source": [
    "livetime = 1 * u.hr\n",
    "sigma = 0.1 * u.h\n",
    "t_ref = Time(51544.00074287037, format=\"mjd\", scale=\"tt\")\n",
    "times = t_ref.mjd * u.d + livetime * np.linspace(0, 1, 1000)\n",
    "\n",
    "flare_model = GaussianTemporalModel(t_ref=times[500], sigma=sigma)\n",
    "\n",
    "# create the astropy table\n",
    "from gammapy.utils.time import time_ref_to_dict\n",
    "meta = time_ref_to_dict(t_ref)\n",
    "lc = Table()\n",
    "lc.meta = meta\n",
    "lc.meta[\"TIMEUNIT\"] = 's'\n",
    "\n",
    "t = Time(times, format=\"mjd\", scale=\"tt\")\n",
    "lc[\"TIME\"] = (times - times[0]).to(\"s\")\n",
    "lc[\"NORM\"] = flare_model(t)*10\n",
    "temporal_model = LightCurveTemplateTemporalModel(lc)\n",
    "temporal_model.plot([t[0],t[-1]])"
   ]
  },
  {
   "cell_type": "code",
   "execution_count": 70,
   "metadata": {},
   "outputs": [
    {
     "data": {
      "text/html": [
       "<div><i>Table length=1000</i>\n",
       "<table id=\"table140645854871760\" class=\"table-striped table-bordered table-condensed\">\n",
       "<thead><tr><th>TIME</th><th>NORM</th></tr></thead>\n",
       "<thead><tr><th>s</th><th></th></tr></thead>\n",
       "<thead><tr><th>float64</th><th>float64</th></tr></thead>\n",
       "<tr><td>0.0</td><td>3.634505310869651e-05</td></tr>\n",
       "<tr><td>3.60360334161669</td><td>3.821041607566253e-05</td></tr>\n",
       "<tr><td>7.207207311876118</td><td>4.016749174454223e-05</td></tr>\n",
       "<tr><td>10.810810653492808</td><td>4.22205745678103e-05</td></tr>\n",
       "<tr><td>14.414414623752236</td><td>4.4374150565757e-05</td></tr>\n",
       "<tr><td>18.018017965368927</td><td>4.663290233415941e-05</td></tr>\n",
       "<tr><td>21.621621935628355</td><td>4.9001720230618364e-05</td></tr>\n",
       "<tr><td>25.225225277245045</td><td>5.148570770603842e-05</td></tr>\n",
       "<tr><td>28.828828618861735</td><td>5.409019295855188e-05</td></tr>\n",
       "<tr><td>32.43243258912116</td><td>5.6820736929709626e-05</td></tr>\n",
       "<tr><td>36.03603593073785</td><td>5.968314126548377e-05</td></tr>\n",
       "<tr><td>39.63963990099728</td><td>6.268346154817389e-05</td></tr>\n",
       "<tr><td>43.24324324261397</td><td>6.582801350312751e-05</td></tr>\n",
       "<tr><td>46.84684658423066</td><td>6.912338718803106e-05</td></tr>\n",
       "<tr><td>...</td><td>...</td></tr>\n",
       "<tr><td>3553.1531532062218</td><td>7.257645590148023e-05</td></tr>\n",
       "<tr><td>3556.7567565478384</td><td>6.912338718803106e-05</td></tr>\n",
       "<tr><td>3560.360360518098</td><td>6.582801294160592e-05</td></tr>\n",
       "<tr><td>3563.9639638597146</td><td>6.268346101238005e-05</td></tr>\n",
       "<tr><td>3567.567567829974</td><td>5.96831407542923e-05</td></tr>\n",
       "<tr><td>3571.1711711715907</td><td>5.6820736442041506e-05</td></tr>\n",
       "<tr><td>3574.7747745132074</td><td>5.409019295855188e-05</td></tr>\n",
       "<tr><td>3578.378378483467</td><td>5.14857072623588e-05</td></tr>\n",
       "<tr><td>3581.9819818250835</td><td>4.900171980748798e-05</td></tr>\n",
       "<tr><td>3585.585585795343</td><td>4.6632901930668514e-05</td></tr>\n",
       "<tr><td>3589.1891891369596</td><td>4.437415018103438e-05</td></tr>\n",
       "<tr><td>3592.7927924785763</td><td>4.22205745678103e-05</td></tr>\n",
       "<tr><td>3596.3963964488357</td><td>4.01674913948871e-05</td></tr>\n",
       "<tr><td>3599.9999997904524</td><td>3.821041607566253e-05</td></tr>\n",
       "</table></div>"
      ],
      "text/plain": [
       "<Table length=1000>\n",
       "       TIME                 NORM         \n",
       "        s                                \n",
       "     float64              float64        \n",
       "------------------ ----------------------\n",
       "               0.0  3.634505310869651e-05\n",
       "  3.60360334161669  3.821041607566253e-05\n",
       " 7.207207311876118  4.016749174454223e-05\n",
       "10.810810653492808   4.22205745678103e-05\n",
       "14.414414623752236    4.4374150565757e-05\n",
       "18.018017965368927  4.663290233415941e-05\n",
       "21.621621935628355 4.9001720230618364e-05\n",
       "25.225225277245045  5.148570770603842e-05\n",
       "28.828828618861735  5.409019295855188e-05\n",
       " 32.43243258912116 5.6820736929709626e-05\n",
       " 36.03603593073785  5.968314126548377e-05\n",
       " 39.63963990099728  6.268346154817389e-05\n",
       " 43.24324324261397  6.582801350312751e-05\n",
       " 46.84684658423066  6.912338718803106e-05\n",
       "               ...                    ...\n",
       "3553.1531532062218  7.257645590148023e-05\n",
       "3556.7567565478384  6.912338718803106e-05\n",
       " 3560.360360518098  6.582801294160592e-05\n",
       "3563.9639638597146  6.268346101238005e-05\n",
       " 3567.567567829974   5.96831407542923e-05\n",
       "3571.1711711715907 5.6820736442041506e-05\n",
       "3574.7747745132074  5.409019295855188e-05\n",
       " 3578.378378483467   5.14857072623588e-05\n",
       "3581.9819818250835  4.900171980748798e-05\n",
       " 3585.585585795343 4.6632901930668514e-05\n",
       "3589.1891891369596  4.437415018103438e-05\n",
       "3592.7927924785763   4.22205745678103e-05\n",
       "3596.3963964488357   4.01674913948871e-05\n",
       "3599.9999997904524  3.821041607566253e-05"
      ]
     },
     "execution_count": 70,
     "metadata": {},
     "output_type": "execute_result"
    }
   ],
   "source": [
    "temporal_model.table"
   ]
  },
  {
   "cell_type": "code",
   "execution_count": 19,
   "metadata": {},
   "outputs": [
    {
     "data": {
      "text/plain": [
       "<AxesSubplot:xlabel='Time [iso]', ylabel='Norm / A.U.'>"
      ]
     },
     "execution_count": 32,
     "metadata": {},
     "output_type": "execute_result"
    },
    {
     "data": {
      "image/png": "[encoded data removed]",
      "text/plain": [
       "<Figure size 432x288 with 1 Axes>"
      ]
     },
     "metadata": {
      "needs_background": "light"
     },
     "output_type": "display_data"
    }
   ],
   "source": [
    "t0 = 0.2 * u.hr\n",
    "t_ref = Time(51544.00074287037, format=\"mjd\", scale=\"tt\").mjd * u.d\n",
    "temporal_model = GaussianTemporalModel(t_ref=t_ref, sigma=t0)\n",
    "temporal_model.plot([times[0],times[-1]])"
   ]
  },
  {
   "cell_type": "code",
   "execution_count": 20,
   "metadata": {},
   "outputs": [],
   "source": [
    "datasets = Datasets()\n",
    "\n",
    "for idx, fp in enumerate(lc_1d.iter_by_axis(axis_name=\"time\")):\n",
    "    dataset = FluxPointsDataset(data=fp, name=f\"time-bin-{idx}\")\n",
    "    datasets.append(dataset)"
   ]
  },
  {
   "cell_type": "code",
   "execution_count": 21,
   "metadata": {},
   "outputs": [],
   "source": [
    "spectral_model1 = PowerLawSpectralModel(\n",
    "    index=2.0, amplitude=\"5e-11 cm-2 s-1 TeV-1\", reference=\"1 TeV\"\n",
    ")\n",
    "spectral_model1.parameters[\"index\"].frozen = True\n",
    "\n",
    "t_ref = Time(51544.00074287037, format=\"mjd\", scale=\"tt\").mjd * u.d\n",
    "temporal_model1 = GaussianTemporalModel(t_ref=t_ref, sigma=\"10 min\")\n",
    "\n",
    "model = SkyModel(\n",
    "    spectral_model=spectral_model1,\n",
    "    temporal_model=temporal_model1,\n",
    "    name=\"test_source\",\n",
    ")"
   ]
  },
  {
   "cell_type": "code",
   "execution_count": 22,
   "metadata": {},
   "outputs": [],
   "source": [
    "datasets.models = model"
   ]
  },
  {
   "cell_type": "code",
   "execution_count": 23,
   "metadata": {},
   "outputs": [
    {
     "name": "stdout",
     "output_type": "stream",
     "text": [
      "DatasetModels\n",
      "\n",
      "Component 0: SkyModel\n",
      "\n",
      "  Name                      : test_source\n",
      "  Datasets names            : None\n",
      "  Spectral model type       : PowerLawSpectralModel\n",
      "  Spatial  model type       : \n",
      "  Temporal model type       : GaussianTemporalModel\n",
      "  Parameters:\n",
      "    index                 (frozen):      2.000                   \n",
      "    amplitude                     :   5.00e-11   +/- 0.0e+00 1 / (cm2 s TeV)\n",
      "    reference             (frozen):      1.000       TeV         \n",
      "    t_ref                         :  51544.001   +/-    0.00 d           \n",
      "    sigma                         :     10.000   +/-    0.00 min         \n",
      "\n",
      "\n"
     ]
    }
   ],
   "source": [
    "print(datasets.models)"
   ]
  },
  {
   "cell_type": "code",
   "execution_count": 24,
   "metadata": {},
   "outputs": [
    {
     "data": {
      "text/plain": [
       "OptimizeResult\n",
       "\n",
       "\tbackend    : minuit\n",
       "\tmethod     : migrad\n",
       "\tsuccess    : False\n",
       "\tmessage    : Optimization terminated successfully.\n",
       "\tnfev       : 167\n",
       "\ttotal stat : 6.60\n"
      ]
     },
     "execution_count": 24,
     "metadata": {},
     "output_type": "execute_result"
    }
   ],
   "source": [
    "fit = Fit()\n",
    "result = fit.run(datasets=datasets)\n",
    "result.optimize_result"
   ]
  },
  {
   "cell_type": "code",
   "execution_count": 25,
   "metadata": {},
   "outputs": [
    {
     "data": {
      "text/html": [
       "<div><i>Table length=5</i>\n",
       "<table id=\"table140646303591008\" class=\"table-striped table-bordered table-condensed\">\n",
       "<thead><tr><th>type</th><th>name</th><th>value</th><th>unit</th><th>error</th><th>min</th><th>max</th><th>frozen</th><th>is_norm</th><th>link</th></tr></thead>\n",
       "<thead><tr><th>str8</th><th>str9</th><th>float64</th><th>str14</th><th>float64</th><th>float64</th><th>float64</th><th>bool</th><th>bool</th><th>str1</th></tr></thead>\n",
       "<tr><td>spectral</td><td>index</td><td>2.0000e+00</td><td></td><td>0.000e+00</td><td>nan</td><td>nan</td><td>True</td><td>False</td><td></td></tr>\n",
       "<tr><td>spectral</td><td>amplitude</td><td>5.0607e-11</td><td>cm-2 s-1 TeV-1</td><td>1.500e-11</td><td>nan</td><td>nan</td><td>False</td><td>True</td><td></td></tr>\n",
       "<tr><td>spectral</td><td>reference</td><td>1.0000e+00</td><td>TeV</td><td>0.000e+00</td><td>nan</td><td>nan</td><td>True</td><td>False</td><td></td></tr>\n",
       "<tr><td>temporal</td><td>t_ref</td><td>5.1544e+04</td><td>d</td><td>3.881e-03</td><td>nan</td><td>nan</td><td>False</td><td>False</td><td></td></tr>\n",
       "<tr><td>temporal</td><td>sigma</td><td>1.1459e+01</td><td>min</td><td>1.956e-01</td><td>nan</td><td>nan</td><td>False</td><td>False</td><td></td></tr>\n",
       "</table></div>"
      ],
      "text/plain": [
       "<Table length=5>\n",
       "  type      name     value         unit        error     min     max   frozen is_norm link\n",
       "  str8      str9    float64       str14       float64  float64 float64  bool    bool  str1\n",
       "-------- --------- ---------- -------------- --------- ------- ------- ------ ------- ----\n",
       "spectral     index 2.0000e+00                0.000e+00     nan     nan   True   False     \n",
       "spectral amplitude 5.0607e-11 cm-2 s-1 TeV-1 1.500e-11     nan     nan  False    True     \n",
       "spectral reference 1.0000e+00            TeV 0.000e+00     nan     nan   True   False     \n",
       "temporal     t_ref 5.1544e+04              d 3.881e-03     nan     nan  False   False     \n",
       "temporal     sigma 1.1459e+01            min 1.956e-01     nan     nan  False   False     "
      ]
     },
     "execution_count": 25,
     "metadata": {},
     "output_type": "execute_result"
    }
   ],
   "source": [
    "result.parameters.to_table()"
   ]
  },
  {
   "cell_type": "code",
   "execution_count": 26,
   "metadata": {},
   "outputs": [],
   "source": [
    "lc_1d._data[\"norm_err\"].data = lc_1d._data[\"norm_err\"].data/max(lc_1d.norm.data)\n",
    "lc_1d._data[\"norm\"].data = lc_1d._data[\"norm\"].data/max(lc_1d.norm.data)"
   ]
  },
  {
   "cell_type": "code",
   "execution_count": 27,
   "metadata": {},
   "outputs": [
    {
     "data": {
      "text/plain": [
       "<matplotlib.legend.Legend at 0x7feac501d3a0>"
      ]
     },
     "execution_count": 27,
     "metadata": {},
     "output_type": "execute_result"
    },
    {
     "data": {
      "image/png": "[encoded data removed]",
      "text/plain": [
       "<Figure size 432x288 with 1 Axes>"
      ]
     },
     "metadata": {
      "needs_background": "light"
     },
     "output_type": "display_data"
    }
   ],
   "source": [
    "#lc_1TeV_10TeV = lc_1d.slice_by_idx({\"energy\": slice(2, 3)})\n",
    "ax = lc_1d.plot(sed_type=\"norm\", axis_name=\"time\")\n",
    "\n",
    "time_range = lc_1d.geom.axes[\"time\"].time_bounds\n",
    "temporal_model1.plot(time_range=time_range, label=\"Best fit model\")\n",
    "\n",
    "ax.set_yscale(\"linear\")\n",
    "plt.legend()"
   ]
  },
  {
   "cell_type": "code",
   "execution_count": 290,
   "metadata": {},
   "outputs": [
    {
     "data": {
      "text/plain": [
       "\u001b[0;31mSignature:\u001b[0m\n",
       "\u001b[0mdatasets\u001b[0m\u001b[0;34m.\u001b[0m\u001b[0mmodels\u001b[0m\u001b[0;34m.\u001b[0m\u001b[0mwrite\u001b[0m\u001b[0;34m(\u001b[0m\u001b[0;34m\u001b[0m\n",
       "\u001b[0;34m\u001b[0m    \u001b[0mpath\u001b[0m\u001b[0;34m,\u001b[0m\u001b[0;34m\u001b[0m\n",
       "\u001b[0;34m\u001b[0m    \u001b[0moverwrite\u001b[0m\u001b[0;34m=\u001b[0m\u001b[0;32mFalse\u001b[0m\u001b[0;34m,\u001b[0m\u001b[0;34m\u001b[0m\n",
       "\u001b[0;34m\u001b[0m    \u001b[0mfull_output\u001b[0m\u001b[0;34m=\u001b[0m\u001b[0;32mFalse\u001b[0m\u001b[0;34m,\u001b[0m\u001b[0;34m\u001b[0m\n",
       "\u001b[0;34m\u001b[0m    \u001b[0moverwrite_templates\u001b[0m\u001b[0;34m=\u001b[0m\u001b[0;32mFalse\u001b[0m\u001b[0;34m,\u001b[0m\u001b[0;34m\u001b[0m\n",
       "\u001b[0;34m\u001b[0m    \u001b[0mwrite_covariance\u001b[0m\u001b[0;34m=\u001b[0m\u001b[0;32mTrue\u001b[0m\u001b[0;34m,\u001b[0m\u001b[0;34m\u001b[0m\n",
       "\u001b[0;34m\u001b[0m\u001b[0;34m)\u001b[0m\u001b[0;34m\u001b[0m\u001b[0;34m\u001b[0m\u001b[0m\n",
       "\u001b[0;31mDocstring:\u001b[0m\n",
       "Write to YAML file.\n",
       "\n",
       "Parameters\n",
       "----------\n",
       "path : `pathlib.Path` or str\n",
       "    path to write files\n",
       "overwrite : bool\n",
       "    overwrite YAML files\n",
       "full_output : bool\n",
       "    Store full parameter output.\n",
       "overwrite_templates : bool\n",
       "    overwrite templates FITS files\n",
       "write_covariance : bool\n",
       "    save covariance or not\n",
       "\u001b[0;31mFile:\u001b[0m      ~/opt/anaconda3/envs/gammapy-0.20.1/lib/python3.8/site-packages/gammapy/modeling/models/core.py\n",
       "\u001b[0;31mType:\u001b[0m      method\n"
      ]
     },
     "metadata": {},
     "output_type": "display_data"
    }
   ],
   "source": [
    "datasets.models.write?"
   ]
  },
  {
   "cell_type": "code",
   "execution_count": null,
   "metadata": {},
   "outputs": [],
   "source": []
  },
  {
   "cell_type": "code",
   "execution_count": null,
   "metadata": {},
   "outputs": [],
   "source": []
  },
  {
   "cell_type": "code",
   "execution_count": null,
   "metadata": {},
   "outputs": [],
   "source": []
  },
  {
   "cell_type": "code",
   "execution_count": 48,
   "metadata": {},
   "outputs": [],
   "source": [
    "circle = CircleSkyRegion(center=target_position, radius=0.2 * u.deg)\n",
    "exclusion_mask = WCS_GEOM.region_mask([circle], inside=False)"
   ]
  },
  {
   "cell_type": "code",
   "execution_count": 52,
   "metadata": {},
   "outputs": [
    {
     "ename": "ValueError",
     "evalue": "Map Arithmetic: Inconsistent geometries.",
     "output_type": "error",
     "traceback": [
      "\u001b[0;31m---------------------------------------------------------------------------\u001b[0m",
      "\u001b[0;31mValueError\u001b[0m                                Traceback (most recent call last)",
      "Input \u001b[0;32mIn [52]\u001b[0m, in \u001b[0;36m<cell line: 3>\u001b[0;34m()\u001b[0m\n\u001b[1;32m      1\u001b[0m fov_bkg_maker \u001b[38;5;241m=\u001b[39m FoVBackgroundMaker(method\u001b[38;5;241m=\u001b[39m\u001b[38;5;124m\"\u001b[39m\u001b[38;5;124mfit\u001b[39m\u001b[38;5;124m\"\u001b[39m, exclusion_mask\u001b[38;5;241m=\u001b[39mexclusion_mask)\n\u001b[0;32m----> 3\u001b[0m dataset_new \u001b[38;5;241m=\u001b[39m \u001b[43mfov_bkg_maker\u001b[49m\u001b[38;5;241;43m.\u001b[39;49m\u001b[43mrun\u001b[49m\u001b[43m(\u001b[49m\u001b[43mdataset\u001b[49m\u001b[43m)\u001b[49m\n\u001b[1;32m      4\u001b[0m dataset\u001b[38;5;241m.\u001b[39mstack(dataset_new)\n",
      "File \u001b[0;32m~/opt/anaconda3/envs/gammapy-0.20.1/lib/python3.8/site-packages/gammapy/makers/background/fov.py:208\u001b[0m, in \u001b[0;36mFoVBackgroundMaker.run\u001b[0;34m(self, dataset, observation)\u001b[0m\n\u001b[1;32m    205\u001b[0m \u001b[38;5;28;01mif\u001b[39;00m dataset\u001b[38;5;241m.\u001b[39mbackground_model \u001b[38;5;129;01mis\u001b[39;00m \u001b[38;5;28;01mNone\u001b[39;00m:\n\u001b[1;32m    206\u001b[0m     dataset \u001b[38;5;241m=\u001b[39m \u001b[38;5;28mself\u001b[39m\u001b[38;5;241m.\u001b[39mmake_default_fov_background_model(dataset)\n\u001b[0;32m--> 208\u001b[0m \u001b[38;5;28;01mif\u001b[39;00m \u001b[38;5;28;43mself\u001b[39;49m\u001b[38;5;241;43m.\u001b[39;49m\u001b[43m_verify_requirements\u001b[49m\u001b[43m(\u001b[49m\u001b[43mdataset\u001b[49m\u001b[43m)\u001b[49m \u001b[38;5;129;01mis\u001b[39;00m \u001b[38;5;28;01mTrue\u001b[39;00m:\n\u001b[1;32m    209\u001b[0m     \u001b[38;5;28;01mif\u001b[39;00m \u001b[38;5;28mself\u001b[39m\u001b[38;5;241m.\u001b[39mmethod \u001b[38;5;241m==\u001b[39m \u001b[38;5;124m\"\u001b[39m\u001b[38;5;124mfit\u001b[39m\u001b[38;5;124m\"\u001b[39m:\n\u001b[1;32m    210\u001b[0m         dataset \u001b[38;5;241m=\u001b[39m \u001b[38;5;28mself\u001b[39m\u001b[38;5;241m.\u001b[39mmake_background_fit(dataset)\n",
      "File \u001b[0;32m~/opt/anaconda3/envs/gammapy-0.20.1/lib/python3.8/site-packages/gammapy/makers/background/fov.py:154\u001b[0m, in \u001b[0;36mFoVBackgroundMaker._verify_requirements\u001b[0;34m(self, dataset)\u001b[0m\n\u001b[1;32m    150\u001b[0m \u001b[38;5;28;01mdef\u001b[39;00m \u001b[38;5;21m_verify_requirements\u001b[39m(\u001b[38;5;28mself\u001b[39m, dataset):\n\u001b[1;32m    151\u001b[0m     \u001b[38;5;124;03m\"\"\" \"Verify that the requirements of min_counts\u001b[39;00m\n\u001b[1;32m    152\u001b[0m \u001b[38;5;124;03m    and min_npred_background are satisfied\"\"\"\u001b[39;00m\n\u001b[0;32m--> 154\u001b[0m     total \u001b[38;5;241m=\u001b[39m \u001b[38;5;28;43mself\u001b[39;49m\u001b[38;5;241;43m.\u001b[39;49m\u001b[43m_make_masked_summed_counts\u001b[49m\u001b[43m(\u001b[49m\u001b[43mdataset\u001b[49m\u001b[43m)\u001b[49m\n\u001b[1;32m    155\u001b[0m     not_bkg_tot \u001b[38;5;241m=\u001b[39m total[\u001b[38;5;124m\"\u001b[39m\u001b[38;5;124mnpred\u001b[39m\u001b[38;5;124m\"\u001b[39m] \u001b[38;5;241m-\u001b[39m total[\u001b[38;5;124m\"\u001b[39m\u001b[38;5;124mbkg\u001b[39m\u001b[38;5;124m\"\u001b[39m]\n\u001b[1;32m    157\u001b[0m     value \u001b[38;5;241m=\u001b[39m (total[\u001b[38;5;124m\"\u001b[39m\u001b[38;5;124mcounts\u001b[39m\u001b[38;5;124m\"\u001b[39m] \u001b[38;5;241m-\u001b[39m not_bkg_tot) \u001b[38;5;241m/\u001b[39m total[\u001b[38;5;124m\"\u001b[39m\u001b[38;5;124mbkg\u001b[39m\u001b[38;5;124m\"\u001b[39m]\n",
      "File \u001b[0;32m~/opt/anaconda3/envs/gammapy-0.20.1/lib/python3.8/site-packages/gammapy/makers/background/fov.py:139\u001b[0m, in \u001b[0;36mFoVBackgroundMaker._make_masked_summed_counts\u001b[0;34m(self, dataset)\u001b[0m\n\u001b[1;32m    136\u001b[0m \u001b[38;5;28;01mdef\u001b[39;00m \u001b[38;5;21m_make_masked_summed_counts\u001b[39m(\u001b[38;5;28mself\u001b[39m, dataset):\n\u001b[1;32m    137\u001b[0m     \u001b[38;5;124;03m\"\"\" \"Compute the sums of the counts, npred, and bacground maps within the mask\"\"\"\u001b[39;00m\n\u001b[0;32m--> 139\u001b[0m     npred \u001b[38;5;241m=\u001b[39m \u001b[43mdataset\u001b[49m\u001b[38;5;241;43m.\u001b[39;49m\u001b[43mnpred\u001b[49m\u001b[43m(\u001b[49m\u001b[43m)\u001b[49m\n\u001b[1;32m    140\u001b[0m     mask \u001b[38;5;241m=\u001b[39m dataset\u001b[38;5;241m.\u001b[39mmask \u001b[38;5;241m&\u001b[39m \u001b[38;5;241m~\u001b[39mnp\u001b[38;5;241m.\u001b[39misnan(npred)\n\u001b[1;32m    141\u001b[0m     count_tot \u001b[38;5;241m=\u001b[39m dataset\u001b[38;5;241m.\u001b[39mcounts\u001b[38;5;241m.\u001b[39mdata[mask]\u001b[38;5;241m.\u001b[39msum()\n",
      "File \u001b[0;32m~/opt/anaconda3/envs/gammapy-0.20.1/lib/python3.8/site-packages/gammapy/datasets/map.py:435\u001b[0m, in \u001b[0;36mMapDataset.npred\u001b[0;34m(self)\u001b[0m\n\u001b[1;32m    432\u001b[0m npred_total \u001b[38;5;241m=\u001b[39m \u001b[38;5;28mself\u001b[39m\u001b[38;5;241m.\u001b[39mnpred_signal()\n\u001b[1;32m    434\u001b[0m \u001b[38;5;28;01mif\u001b[39;00m \u001b[38;5;28mself\u001b[39m\u001b[38;5;241m.\u001b[39mbackground:\n\u001b[0;32m--> 435\u001b[0m     npred_total \u001b[38;5;241m+\u001b[39m\u001b[38;5;241m=\u001b[39m \u001b[38;5;28mself\u001b[39m\u001b[38;5;241m.\u001b[39mnpred_background()\n\u001b[1;32m    436\u001b[0m npred_total\u001b[38;5;241m.\u001b[39mdata[npred_total\u001b[38;5;241m.\u001b[39mdata \u001b[38;5;241m<\u001b[39m \u001b[38;5;241m0.0\u001b[39m] \u001b[38;5;241m=\u001b[39m \u001b[38;5;241m0\u001b[39m\n\u001b[1;32m    437\u001b[0m \u001b[38;5;28;01mreturn\u001b[39;00m npred_total\n",
      "File \u001b[0;32m~/opt/anaconda3/envs/gammapy-0.20.1/lib/python3.8/site-packages/gammapy/maps/core.py:1714\u001b[0m, in \u001b[0;36mMap.__iadd__\u001b[0;34m(self, other)\u001b[0m\n\u001b[1;32m   1713\u001b[0m \u001b[38;5;28;01mdef\u001b[39;00m \u001b[38;5;21m__iadd__\u001b[39m(\u001b[38;5;28mself\u001b[39m, other):\n\u001b[0;32m-> 1714\u001b[0m     \u001b[38;5;28;01mreturn\u001b[39;00m \u001b[38;5;28;43mself\u001b[39;49m\u001b[38;5;241;43m.\u001b[39;49m\u001b[43m_arithmetics\u001b[49m\u001b[43m(\u001b[49m\u001b[43mnp\u001b[49m\u001b[38;5;241;43m.\u001b[39;49m\u001b[43madd\u001b[49m\u001b[43m,\u001b[49m\u001b[43m \u001b[49m\u001b[43mother\u001b[49m\u001b[43m,\u001b[49m\u001b[43m \u001b[49m\u001b[43mcopy\u001b[49m\u001b[38;5;241;43m=\u001b[39;49m\u001b[38;5;28;43;01mFalse\u001b[39;49;00m\u001b[43m)\u001b[49m\n",
      "File \u001b[0;32m~/opt/anaconda3/envs/gammapy-0.20.1/lib/python3.8/site-packages/gammapy/maps/core.py:1685\u001b[0m, in \u001b[0;36mMap._arithmetics\u001b[0;34m(self, operator, other, copy)\u001b[0m\n\u001b[1;32m   1683\u001b[0m         q \u001b[38;5;241m=\u001b[39m other\u001b[38;5;241m.\u001b[39mquantity\n\u001b[1;32m   1684\u001b[0m     \u001b[38;5;28;01melse\u001b[39;00m:\n\u001b[0;32m-> 1685\u001b[0m         \u001b[38;5;28;01mraise\u001b[39;00m \u001b[38;5;167;01mValueError\u001b[39;00m(\u001b[38;5;124m\"\u001b[39m\u001b[38;5;124mMap Arithmetic: Inconsistent geometries.\u001b[39m\u001b[38;5;124m\"\u001b[39m)\n\u001b[1;32m   1686\u001b[0m \u001b[38;5;28;01melse\u001b[39;00m:\n\u001b[1;32m   1687\u001b[0m     q \u001b[38;5;241m=\u001b[39m u\u001b[38;5;241m.\u001b[39mQuantity(other, copy\u001b[38;5;241m=\u001b[39m\u001b[38;5;28;01mFalse\u001b[39;00m)\n",
      "\u001b[0;31mValueError\u001b[0m: Map Arithmetic: Inconsistent geometries."
     ]
    }
   ],
   "source": [
    "fov_bkg_maker = FoVBackgroundMaker(method=\"fit\", exclusion_mask=exclusion_mask)\n",
    "\n",
    "dataset_new = fov_bkg_maker.run(dataset)\n",
    "dataset.stack(dataset_new)"
   ]
  },
  {
   "cell_type": "code",
   "execution_count": 42,
   "metadata": {},
   "outputs": [
    {
     "ename": "ValueError",
     "evalue": "Map Arithmetic: Inconsistent geometries.",
     "output_type": "error",
     "traceback": [
      "\u001b[0;31m---------------------------------------------------------------------------\u001b[0m",
      "\u001b[0;31mValueError\u001b[0m                                Traceback (most recent call last)",
      "Input \u001b[0;32mIn [42]\u001b[0m, in \u001b[0;36m<cell line: 1>\u001b[0;34m()\u001b[0m\n\u001b[0;32m----> 1\u001b[0m dataset_on_off \u001b[38;5;241m=\u001b[39m \u001b[43mbkg_maker\u001b[49m\u001b[38;5;241;43m.\u001b[39;49m\u001b[43mrun\u001b[49m\u001b[43m(\u001b[49m\u001b[43mdataset\u001b[49m\u001b[43m,\u001b[49m\u001b[43m \u001b[49m\u001b[43mobservation\u001b[49m\u001b[43m)\u001b[49m\n",
      "File \u001b[0;32m~/opt/anaconda3/envs/gammapy-0.20.1/lib/python3.8/site-packages/gammapy/makers/background/fov.py:208\u001b[0m, in \u001b[0;36mFoVBackgroundMaker.run\u001b[0;34m(self, dataset, observation)\u001b[0m\n\u001b[1;32m    205\u001b[0m \u001b[38;5;28;01mif\u001b[39;00m dataset\u001b[38;5;241m.\u001b[39mbackground_model \u001b[38;5;129;01mis\u001b[39;00m \u001b[38;5;28;01mNone\u001b[39;00m:\n\u001b[1;32m    206\u001b[0m     dataset \u001b[38;5;241m=\u001b[39m \u001b[38;5;28mself\u001b[39m\u001b[38;5;241m.\u001b[39mmake_default_fov_background_model(dataset)\n\u001b[0;32m--> 208\u001b[0m \u001b[38;5;28;01mif\u001b[39;00m \u001b[38;5;28;43mself\u001b[39;49m\u001b[38;5;241;43m.\u001b[39;49m\u001b[43m_verify_requirements\u001b[49m\u001b[43m(\u001b[49m\u001b[43mdataset\u001b[49m\u001b[43m)\u001b[49m \u001b[38;5;129;01mis\u001b[39;00m \u001b[38;5;28;01mTrue\u001b[39;00m:\n\u001b[1;32m    209\u001b[0m     \u001b[38;5;28;01mif\u001b[39;00m \u001b[38;5;28mself\u001b[39m\u001b[38;5;241m.\u001b[39mmethod \u001b[38;5;241m==\u001b[39m \u001b[38;5;124m\"\u001b[39m\u001b[38;5;124mfit\u001b[39m\u001b[38;5;124m\"\u001b[39m:\n\u001b[1;32m    210\u001b[0m         dataset \u001b[38;5;241m=\u001b[39m \u001b[38;5;28mself\u001b[39m\u001b[38;5;241m.\u001b[39mmake_background_fit(dataset)\n",
      "File \u001b[0;32m~/opt/anaconda3/envs/gammapy-0.20.1/lib/python3.8/site-packages/gammapy/makers/background/fov.py:154\u001b[0m, in \u001b[0;36mFoVBackgroundMaker._verify_requirements\u001b[0;34m(self, dataset)\u001b[0m\n\u001b[1;32m    150\u001b[0m \u001b[38;5;28;01mdef\u001b[39;00m \u001b[38;5;21m_verify_requirements\u001b[39m(\u001b[38;5;28mself\u001b[39m, dataset):\n\u001b[1;32m    151\u001b[0m     \u001b[38;5;124;03m\"\"\" \"Verify that the requirements of min_counts\u001b[39;00m\n\u001b[1;32m    152\u001b[0m \u001b[38;5;124;03m    and min_npred_background are satisfied\"\"\"\u001b[39;00m\n\u001b[0;32m--> 154\u001b[0m     total \u001b[38;5;241m=\u001b[39m \u001b[38;5;28;43mself\u001b[39;49m\u001b[38;5;241;43m.\u001b[39;49m\u001b[43m_make_masked_summed_counts\u001b[49m\u001b[43m(\u001b[49m\u001b[43mdataset\u001b[49m\u001b[43m)\u001b[49m\n\u001b[1;32m    155\u001b[0m     not_bkg_tot \u001b[38;5;241m=\u001b[39m total[\u001b[38;5;124m\"\u001b[39m\u001b[38;5;124mnpred\u001b[39m\u001b[38;5;124m\"\u001b[39m] \u001b[38;5;241m-\u001b[39m total[\u001b[38;5;124m\"\u001b[39m\u001b[38;5;124mbkg\u001b[39m\u001b[38;5;124m\"\u001b[39m]\n\u001b[1;32m    157\u001b[0m     value \u001b[38;5;241m=\u001b[39m (total[\u001b[38;5;124m\"\u001b[39m\u001b[38;5;124mcounts\u001b[39m\u001b[38;5;124m\"\u001b[39m] \u001b[38;5;241m-\u001b[39m not_bkg_tot) \u001b[38;5;241m/\u001b[39m total[\u001b[38;5;124m\"\u001b[39m\u001b[38;5;124mbkg\u001b[39m\u001b[38;5;124m\"\u001b[39m]\n",
      "File \u001b[0;32m~/opt/anaconda3/envs/gammapy-0.20.1/lib/python3.8/site-packages/gammapy/makers/background/fov.py:139\u001b[0m, in \u001b[0;36mFoVBackgroundMaker._make_masked_summed_counts\u001b[0;34m(self, dataset)\u001b[0m\n\u001b[1;32m    136\u001b[0m \u001b[38;5;28;01mdef\u001b[39;00m \u001b[38;5;21m_make_masked_summed_counts\u001b[39m(\u001b[38;5;28mself\u001b[39m, dataset):\n\u001b[1;32m    137\u001b[0m     \u001b[38;5;124;03m\"\"\" \"Compute the sums of the counts, npred, and bacground maps within the mask\"\"\"\u001b[39;00m\n\u001b[0;32m--> 139\u001b[0m     npred \u001b[38;5;241m=\u001b[39m \u001b[43mdataset\u001b[49m\u001b[38;5;241;43m.\u001b[39;49m\u001b[43mnpred\u001b[49m\u001b[43m(\u001b[49m\u001b[43m)\u001b[49m\n\u001b[1;32m    140\u001b[0m     mask \u001b[38;5;241m=\u001b[39m dataset\u001b[38;5;241m.\u001b[39mmask \u001b[38;5;241m&\u001b[39m \u001b[38;5;241m~\u001b[39mnp\u001b[38;5;241m.\u001b[39misnan(npred)\n\u001b[1;32m    141\u001b[0m     count_tot \u001b[38;5;241m=\u001b[39m dataset\u001b[38;5;241m.\u001b[39mcounts\u001b[38;5;241m.\u001b[39mdata[mask]\u001b[38;5;241m.\u001b[39msum()\n",
      "File \u001b[0;32m~/opt/anaconda3/envs/gammapy-0.20.1/lib/python3.8/site-packages/gammapy/datasets/map.py:435\u001b[0m, in \u001b[0;36mMapDataset.npred\u001b[0;34m(self)\u001b[0m\n\u001b[1;32m    432\u001b[0m npred_total \u001b[38;5;241m=\u001b[39m \u001b[38;5;28mself\u001b[39m\u001b[38;5;241m.\u001b[39mnpred_signal()\n\u001b[1;32m    434\u001b[0m \u001b[38;5;28;01mif\u001b[39;00m \u001b[38;5;28mself\u001b[39m\u001b[38;5;241m.\u001b[39mbackground:\n\u001b[0;32m--> 435\u001b[0m     npred_total \u001b[38;5;241m+\u001b[39m\u001b[38;5;241m=\u001b[39m \u001b[38;5;28mself\u001b[39m\u001b[38;5;241m.\u001b[39mnpred_background()\n\u001b[1;32m    436\u001b[0m npred_total\u001b[38;5;241m.\u001b[39mdata[npred_total\u001b[38;5;241m.\u001b[39mdata \u001b[38;5;241m<\u001b[39m \u001b[38;5;241m0.0\u001b[39m] \u001b[38;5;241m=\u001b[39m \u001b[38;5;241m0\u001b[39m\n\u001b[1;32m    437\u001b[0m \u001b[38;5;28;01mreturn\u001b[39;00m npred_total\n",
      "File \u001b[0;32m~/opt/anaconda3/envs/gammapy-0.20.1/lib/python3.8/site-packages/gammapy/maps/core.py:1714\u001b[0m, in \u001b[0;36mMap.__iadd__\u001b[0;34m(self, other)\u001b[0m\n\u001b[1;32m   1713\u001b[0m \u001b[38;5;28;01mdef\u001b[39;00m \u001b[38;5;21m__iadd__\u001b[39m(\u001b[38;5;28mself\u001b[39m, other):\n\u001b[0;32m-> 1714\u001b[0m     \u001b[38;5;28;01mreturn\u001b[39;00m \u001b[38;5;28;43mself\u001b[39;49m\u001b[38;5;241;43m.\u001b[39;49m\u001b[43m_arithmetics\u001b[49m\u001b[43m(\u001b[49m\u001b[43mnp\u001b[49m\u001b[38;5;241;43m.\u001b[39;49m\u001b[43madd\u001b[49m\u001b[43m,\u001b[49m\u001b[43m \u001b[49m\u001b[43mother\u001b[49m\u001b[43m,\u001b[49m\u001b[43m \u001b[49m\u001b[43mcopy\u001b[49m\u001b[38;5;241;43m=\u001b[39;49m\u001b[38;5;28;43;01mFalse\u001b[39;49;00m\u001b[43m)\u001b[49m\n",
      "File \u001b[0;32m~/opt/anaconda3/envs/gammapy-0.20.1/lib/python3.8/site-packages/gammapy/maps/core.py:1685\u001b[0m, in \u001b[0;36mMap._arithmetics\u001b[0;34m(self, operator, other, copy)\u001b[0m\n\u001b[1;32m   1683\u001b[0m         q \u001b[38;5;241m=\u001b[39m other\u001b[38;5;241m.\u001b[39mquantity\n\u001b[1;32m   1684\u001b[0m     \u001b[38;5;28;01melse\u001b[39;00m:\n\u001b[0;32m-> 1685\u001b[0m         \u001b[38;5;28;01mraise\u001b[39;00m \u001b[38;5;167;01mValueError\u001b[39;00m(\u001b[38;5;124m\"\u001b[39m\u001b[38;5;124mMap Arithmetic: Inconsistent geometries.\u001b[39m\u001b[38;5;124m\"\u001b[39m)\n\u001b[1;32m   1686\u001b[0m \u001b[38;5;28;01melse\u001b[39;00m:\n\u001b[1;32m   1687\u001b[0m     q \u001b[38;5;241m=\u001b[39m u\u001b[38;5;241m.\u001b[39mQuantity(other, copy\u001b[38;5;241m=\u001b[39m\u001b[38;5;28;01mFalse\u001b[39;00m)\n",
      "\u001b[0;31mValueError\u001b[0m: Map Arithmetic: Inconsistent geometries."
     ]
    }
   ],
   "source": [
    "dataset_on_off = bkg_maker.run(dataset, observation)"
   ]
  },
  {
   "cell_type": "code",
   "execution_count": 19,
   "metadata": {},
   "outputs": [],
   "source": [
    "target_position = SkyCoord(0.0, 0.0, frame=\"galactic\", unit=\"deg\")\n",
    "on_region_radius = Angle(\"0.11 deg\")\n",
    "on_region = CircleSkyRegion(center=target_position, radius=on_region_radius)\n",
    "\n",
    "geom = RegionGeom.create(region=on_region, axes=[ENERGY_AXIS])"
   ]
  },
  {
   "cell_type": "code",
   "execution_count": 23,
   "metadata": {},
   "outputs": [],
   "source": [
    "dataset_maker = SpectrumDatasetMaker(\n",
    "    containment_correction=True, selection=[\"counts\", \"exposure\", \"edisp\"]\n",
    ")\n",
    "bkg_maker = FoVBackgroundMaker()"
   ]
  },
  {
   "cell_type": "code",
   "execution_count": 36,
   "metadata": {},
   "outputs": [
    {
     "ename": "TypeError",
     "evalue": "FoVBackgroundMaker does not support region based datasets.",
     "output_type": "error",
     "traceback": [
      "\u001b[0;31m---------------------------------------------------------------------------\u001b[0m",
      "\u001b[0;31mTypeError\u001b[0m                                 Traceback (most recent call last)",
      "File \u001b[0;32m<timed exec>:10\u001b[0m, in \u001b[0;36m<module>\u001b[0;34m\u001b[0m\n",
      "File \u001b[0;32m~/opt/anaconda3/envs/gammapy-0.20.1/lib/python3.8/site-packages/gammapy/makers/background/fov.py:195\u001b[0m, in \u001b[0;36mFoVBackgroundMaker.run\u001b[0;34m(self, dataset, observation)\u001b[0m\n\u001b[1;32m    186\u001b[0m \u001b[38;5;124;03m\"\"\"Run FoV background maker.\u001b[39;00m\n\u001b[1;32m    187\u001b[0m \n\u001b[1;32m    188\u001b[0m \u001b[38;5;124;03mParameters\u001b[39;00m\n\u001b[0;32m   (...)\u001b[0m\n\u001b[1;32m    192\u001b[0m \n\u001b[1;32m    193\u001b[0m \u001b[38;5;124;03m\"\"\"\u001b[39;00m\n\u001b[1;32m    194\u001b[0m \u001b[38;5;28;01mif\u001b[39;00m \u001b[38;5;28misinstance\u001b[39m(dataset\u001b[38;5;241m.\u001b[39mcounts\u001b[38;5;241m.\u001b[39mgeom, RegionGeom):\n\u001b[0;32m--> 195\u001b[0m     \u001b[38;5;28;01mraise\u001b[39;00m \u001b[38;5;167;01mTypeError\u001b[39;00m(\n\u001b[1;32m    196\u001b[0m         \u001b[38;5;124m\"\u001b[39m\u001b[38;5;124mFoVBackgroundMaker does not support region based datasets.\u001b[39m\u001b[38;5;124m\"\u001b[39m\n\u001b[1;32m    197\u001b[0m     )\n\u001b[1;32m    199\u001b[0m mask_fit \u001b[38;5;241m=\u001b[39m dataset\u001b[38;5;241m.\u001b[39mmask_fit\n\u001b[1;32m    200\u001b[0m \u001b[38;5;28;01mif\u001b[39;00m mask_fit:\n",
      "\u001b[0;31mTypeError\u001b[0m: FoVBackgroundMaker does not support region based datasets."
     ]
    }
   ],
   "source": [
    "%%time\n",
    "observation.events = events\n",
    "\n",
    "datasets = Datasets()\n",
    "\n",
    "dataset_empty = SpectrumDataset.create(\n",
    "    geom=geom, energy_axis_true=ENERGY_AXIS_TRUE\n",
    ")\n",
    "\n",
    "dataset = dataset_maker.run(dataset_empty.copy(), observation)\n",
    "dataset_on_off = bkg_maker.run(dataset, observation)\n",
    "datasets.append(dataset_on_off)"
   ]
  },
  {
   "cell_type": "code",
   "execution_count": null,
   "metadata": {},
   "outputs": [],
   "source": []
  },
  {
   "cell_type": "code",
   "execution_count": null,
   "metadata": {},
   "outputs": [],
   "source": []
  },
  {
   "cell_type": "code",
   "execution_count": 9,
   "metadata": {},
   "outputs": [],
   "source": [
    "spectral_model = PowerLawSpectralModel(\n",
    "    index=2, amplitude=\"1e-12 cm-2 s-1 TeV-1\", reference=\"1 TeV\"\n",
    ")\n",
    "model_fit = SkyModel(spectral_model=spectral_model, name=\"model-fit\")"
   ]
  },
  {
   "cell_type": "code",
   "execution_count": 11,
   "metadata": {},
   "outputs": [],
   "source": [
    "dataset.models = model_fit"
   ]
  },
  {
   "cell_type": "code",
   "execution_count": 14,
   "metadata": {},
   "outputs": [
    {
     "ename": "ValueError",
     "evalue": "cannot reshape array of size 80 into shape (80,400,400)",
     "output_type": "error",
     "traceback": [
      "\u001b[0;31m---------------------------------------------------------------------------\u001b[0m",
      "\u001b[0;31mValueError\u001b[0m                                Traceback (most recent call last)",
      "Input \u001b[0;32mIn [14]\u001b[0m, in \u001b[0;36m<cell line: 8>\u001b[0;34m()\u001b[0m\n\u001b[1;32m      1\u001b[0m \u001b[38;5;28;01mfrom\u001b[39;00m \u001b[38;5;21;01mgammapy\u001b[39;00m\u001b[38;5;21;01m.\u001b[39;00m\u001b[38;5;21;01mestimators\u001b[39;00m \u001b[38;5;28;01mimport\u001b[39;00m LightCurveEstimator\n\u001b[1;32m      3\u001b[0m lc_maker_1d \u001b[38;5;241m=\u001b[39m LightCurveEstimator(\n\u001b[1;32m      4\u001b[0m     energy_edges\u001b[38;5;241m=\u001b[39m[\u001b[38;5;241m0.1\u001b[39m, \u001b[38;5;241m0.3\u001b[39m, \u001b[38;5;241m0.6\u001b[39m, \u001b[38;5;241m1.0\u001b[39m, \u001b[38;5;241m5\u001b[39m, \u001b[38;5;241m10\u001b[39m] \u001b[38;5;241m*\u001b[39m u\u001b[38;5;241m.\u001b[39mTeV,\n\u001b[1;32m      5\u001b[0m     source\u001b[38;5;241m=\u001b[39m\u001b[38;5;124m\"\u001b[39m\u001b[38;5;124mmodel-fit\u001b[39m\u001b[38;5;124m\"\u001b[39m,\n\u001b[1;32m      6\u001b[0m     selection_optional\u001b[38;5;241m=\u001b[39m[\u001b[38;5;124m\"\u001b[39m\u001b[38;5;124mul\u001b[39m\u001b[38;5;124m\"\u001b[39m],\n\u001b[1;32m      7\u001b[0m )\n\u001b[0;32m----> 8\u001b[0m lc_1d \u001b[38;5;241m=\u001b[39m \u001b[43mlc_maker_1d\u001b[49m\u001b[38;5;241;43m.\u001b[39;49m\u001b[43mrun\u001b[49m\u001b[43m(\u001b[49m\u001b[43mdataset\u001b[49m\u001b[43m)\u001b[49m\n",
      "File \u001b[0;32m~/opt/anaconda3/envs/gammapy-0.20.1/lib/python3.8/site-packages/gammapy/estimators/points/lightcurve.py:119\u001b[0m, in \u001b[0;36mLightCurveEstimator.run\u001b[0;34m(self, datasets)\u001b[0m\n\u001b[1;32m    116\u001b[0m     \u001b[38;5;28;01mcontinue\u001b[39;00m\n\u001b[1;32m    118\u001b[0m valid_intervals\u001b[38;5;241m.\u001b[39mappend([t_min, t_max])\n\u001b[0;32m--> 119\u001b[0m fp \u001b[38;5;241m=\u001b[39m \u001b[38;5;28;43mself\u001b[39;49m\u001b[38;5;241;43m.\u001b[39;49m\u001b[43mestimate_time_bin_flux\u001b[49m\u001b[43m(\u001b[49m\u001b[43mdatasets\u001b[49m\u001b[38;5;241;43m=\u001b[39;49m\u001b[43mdatasets_to_fit\u001b[49m\u001b[43m)\u001b[49m\n\u001b[1;32m    121\u001b[0m \u001b[38;5;28;01mfor\u001b[39;00m name \u001b[38;5;129;01min\u001b[39;00m [\u001b[38;5;124m\"\u001b[39m\u001b[38;5;124mcounts\u001b[39m\u001b[38;5;124m\"\u001b[39m, \u001b[38;5;124m\"\u001b[39m\u001b[38;5;124mnpred\u001b[39m\u001b[38;5;124m\"\u001b[39m, \u001b[38;5;124m\"\u001b[39m\u001b[38;5;124mnpred_excess\u001b[39m\u001b[38;5;124m\"\u001b[39m]:\n\u001b[1;32m    122\u001b[0m     fp\u001b[38;5;241m.\u001b[39m_data[name] \u001b[38;5;241m=\u001b[39m \u001b[38;5;28mself\u001b[39m\u001b[38;5;241m.\u001b[39mexpand_map(\n\u001b[1;32m    123\u001b[0m         fp\u001b[38;5;241m.\u001b[39m_data[name], dataset_names\u001b[38;5;241m=\u001b[39mdatasets\u001b[38;5;241m.\u001b[39mnames\n\u001b[1;32m    124\u001b[0m     )\n",
      "File \u001b[0;32m~/opt/anaconda3/envs/gammapy-0.20.1/lib/python3.8/site-packages/gammapy/estimators/points/lightcurve.py:174\u001b[0m, in \u001b[0;36mLightCurveEstimator.estimate_time_bin_flux\u001b[0;34m(self, datasets)\u001b[0m\n\u001b[1;32m    161\u001b[0m \u001b[38;5;28;01mdef\u001b[39;00m \u001b[38;5;21mestimate_time_bin_flux\u001b[39m(\u001b[38;5;28mself\u001b[39m, datasets):\n\u001b[1;32m    162\u001b[0m     \u001b[38;5;124;03m\"\"\"Estimate flux point for a single energy group.\u001b[39;00m\n\u001b[1;32m    163\u001b[0m \n\u001b[1;32m    164\u001b[0m \u001b[38;5;124;03m    Parameters\u001b[39;00m\n\u001b[0;32m   (...)\u001b[0m\n\u001b[1;32m    172\u001b[0m \u001b[38;5;124;03m        Resulting flux points.\u001b[39;00m\n\u001b[1;32m    173\u001b[0m \u001b[38;5;124;03m    \"\"\"\u001b[39;00m\n\u001b[0;32m--> 174\u001b[0m     \u001b[38;5;28;01mreturn\u001b[39;00m \u001b[38;5;28;43msuper\u001b[39;49m\u001b[43m(\u001b[49m\u001b[43m)\u001b[49m\u001b[38;5;241;43m.\u001b[39;49m\u001b[43mrun\u001b[49m\u001b[43m(\u001b[49m\u001b[43mdatasets\u001b[49m\u001b[43m)\u001b[49m\n",
      "File \u001b[0;32m~/opt/anaconda3/envs/gammapy-0.20.1/lib/python3.8/site-packages/gammapy/estimators/points/sed.py:102\u001b[0m, in \u001b[0;36mFluxPointsEstimator.run\u001b[0;34m(self, datasets)\u001b[0m\n\u001b[1;32m     97\u001b[0m rows \u001b[38;5;241m=\u001b[39m []\n\u001b[1;32m     99\u001b[0m \u001b[38;5;28;01mfor\u001b[39;00m energy_min, energy_max \u001b[38;5;129;01min\u001b[39;00m progress_bar(\n\u001b[1;32m    100\u001b[0m     \u001b[38;5;28mzip\u001b[39m(\u001b[38;5;28mself\u001b[39m\u001b[38;5;241m.\u001b[39menergy_edges[:\u001b[38;5;241m-\u001b[39m\u001b[38;5;241m1\u001b[39m], \u001b[38;5;28mself\u001b[39m\u001b[38;5;241m.\u001b[39menergy_edges[\u001b[38;5;241m1\u001b[39m:]), desc\u001b[38;5;241m=\u001b[39m\u001b[38;5;124m\"\u001b[39m\u001b[38;5;124mEnergy bins\u001b[39m\u001b[38;5;124m\"\u001b[39m\n\u001b[1;32m    101\u001b[0m ):\n\u001b[0;32m--> 102\u001b[0m     row \u001b[38;5;241m=\u001b[39m \u001b[38;5;28;43mself\u001b[39;49m\u001b[38;5;241;43m.\u001b[39;49m\u001b[43mestimate_flux_point\u001b[49m\u001b[43m(\u001b[49m\n\u001b[1;32m    103\u001b[0m \u001b[43m        \u001b[49m\u001b[43mdatasets\u001b[49m\u001b[43m,\u001b[49m\n\u001b[1;32m    104\u001b[0m \u001b[43m        \u001b[49m\u001b[43menergy_min\u001b[49m\u001b[38;5;241;43m=\u001b[39;49m\u001b[43menergy_min\u001b[49m\u001b[43m,\u001b[49m\n\u001b[1;32m    105\u001b[0m \u001b[43m        \u001b[49m\u001b[43menergy_max\u001b[49m\u001b[38;5;241;43m=\u001b[39;49m\u001b[43menergy_max\u001b[49m\u001b[43m,\u001b[49m\n\u001b[1;32m    106\u001b[0m \u001b[43m    \u001b[49m\u001b[43m)\u001b[49m\n\u001b[1;32m    107\u001b[0m     rows\u001b[38;5;241m.\u001b[39mappend(row)\n\u001b[1;32m    109\u001b[0m meta \u001b[38;5;241m=\u001b[39m {\n\u001b[1;32m    110\u001b[0m     \u001b[38;5;124m\"\u001b[39m\u001b[38;5;124mn_sigma\u001b[39m\u001b[38;5;124m\"\u001b[39m: \u001b[38;5;28mself\u001b[39m\u001b[38;5;241m.\u001b[39mn_sigma,\n\u001b[1;32m    111\u001b[0m     \u001b[38;5;124m\"\u001b[39m\u001b[38;5;124mn_sigma_ul\u001b[39m\u001b[38;5;124m\"\u001b[39m: \u001b[38;5;28mself\u001b[39m\u001b[38;5;241m.\u001b[39mn_sigma_ul,\n\u001b[1;32m    112\u001b[0m     \u001b[38;5;124m\"\u001b[39m\u001b[38;5;124msed_type_init\u001b[39m\u001b[38;5;124m\"\u001b[39m: \u001b[38;5;124m\"\u001b[39m\u001b[38;5;124mlikelihood\u001b[39m\u001b[38;5;124m\"\u001b[39m,\n\u001b[1;32m    113\u001b[0m }\n",
      "File \u001b[0;32m~/opt/anaconda3/envs/gammapy-0.20.1/lib/python3.8/site-packages/gammapy/estimators/points/sed.py:149\u001b[0m, in \u001b[0;36mFluxPointsEstimator.estimate_flux_point\u001b[0;34m(self, datasets, energy_min, energy_max)\u001b[0m\n\u001b[1;32m    147\u001b[0m \u001b[38;5;28;01mif\u001b[39;00m \u001b[38;5;28mlen\u001b[39m(datasets_sliced) \u001b[38;5;241m>\u001b[39m \u001b[38;5;241m0\u001b[39m:\n\u001b[1;32m    148\u001b[0m     datasets_sliced\u001b[38;5;241m.\u001b[39mmodels \u001b[38;5;241m=\u001b[39m datasets\u001b[38;5;241m.\u001b[39mmodels\u001b[38;5;241m.\u001b[39mcopy()\n\u001b[0;32m--> 149\u001b[0m     \u001b[38;5;28;01mreturn\u001b[39;00m \u001b[38;5;28;43msuper\u001b[39;49m\u001b[43m(\u001b[49m\u001b[43m)\u001b[49m\u001b[38;5;241;43m.\u001b[39;49m\u001b[43mrun\u001b[49m\u001b[43m(\u001b[49m\u001b[43mdatasets\u001b[49m\u001b[38;5;241;43m=\u001b[39;49m\u001b[43mdatasets_sliced\u001b[49m\u001b[43m)\u001b[49m\n\u001b[1;32m    150\u001b[0m \u001b[38;5;28;01melse\u001b[39;00m:\n\u001b[1;32m    151\u001b[0m     log\u001b[38;5;241m.\u001b[39mwarning(\u001b[38;5;124mf\u001b[39m\u001b[38;5;124m\"\u001b[39m\u001b[38;5;124mNo dataset contribute in range \u001b[39m\u001b[38;5;132;01m{\u001b[39;00menergy_min\u001b[38;5;132;01m}\u001b[39;00m\u001b[38;5;124m-\u001b[39m\u001b[38;5;132;01m{\u001b[39;00menergy_max\u001b[38;5;132;01m}\u001b[39;00m\u001b[38;5;124m\"\u001b[39m)\n",
      "File \u001b[0;32m~/opt/anaconda3/envs/gammapy-0.20.1/lib/python3.8/site-packages/gammapy/estimators/flux.py:181\u001b[0m, in \u001b[0;36mFluxEstimator.run\u001b[0;34m(self, datasets)\u001b[0m\n\u001b[1;32m    179\u001b[0m models[\u001b[38;5;28mself\u001b[39m\u001b[38;5;241m.\u001b[39msource]\u001b[38;5;241m.\u001b[39mspectral_model \u001b[38;5;241m=\u001b[39m model\n\u001b[1;32m    180\u001b[0m datasets\u001b[38;5;241m.\u001b[39mmodels \u001b[38;5;241m=\u001b[39m models\n\u001b[0;32m--> 181\u001b[0m result\u001b[38;5;241m.\u001b[39mupdate(\u001b[38;5;28;43msuper\u001b[39;49m\u001b[43m(\u001b[49m\u001b[43m)\u001b[49m\u001b[38;5;241;43m.\u001b[39;49m\u001b[43mrun\u001b[49m\u001b[43m(\u001b[49m\u001b[43mdatasets\u001b[49m\u001b[43m,\u001b[49m\u001b[43m \u001b[49m\u001b[43mmodel\u001b[49m\u001b[38;5;241;43m.\u001b[39;49m\u001b[43mnorm\u001b[49m\u001b[43m)\u001b[49m)\n\u001b[1;32m    183\u001b[0m \u001b[38;5;66;03m# TODO: find a cleaner way of including the npred_excess info\u001b[39;00m\n\u001b[1;32m    184\u001b[0m datasets\u001b[38;5;241m.\u001b[39mmodels[\u001b[38;5;28mself\u001b[39m\u001b[38;5;241m.\u001b[39msource]\u001b[38;5;241m.\u001b[39mspectral_model\u001b[38;5;241m.\u001b[39mnorm\u001b[38;5;241m.\u001b[39mvalue \u001b[38;5;241m=\u001b[39m result[\u001b[38;5;124m\"\u001b[39m\u001b[38;5;124mnorm\u001b[39m\u001b[38;5;124m\"\u001b[39m]\n",
      "File \u001b[0;32m~/opt/anaconda3/envs/gammapy-0.20.1/lib/python3.8/site-packages/gammapy/estimators/parameter.py:315\u001b[0m, in \u001b[0;36mParameterEstimator.run\u001b[0;34m(self, datasets, parameter)\u001b[0m\n\u001b[1;32m    312\u001b[0m     datasets\u001b[38;5;241m.\u001b[39mparameters\u001b[38;5;241m.\u001b[39mfreeze_all()\n\u001b[1;32m    313\u001b[0m     parameter\u001b[38;5;241m.\u001b[39mfrozen \u001b[38;5;241m=\u001b[39m \u001b[38;5;28;01mFalse\u001b[39;00m\n\u001b[0;32m--> 315\u001b[0m result \u001b[38;5;241m=\u001b[39m \u001b[38;5;28;43mself\u001b[39;49m\u001b[38;5;241;43m.\u001b[39;49m\u001b[43mestimate_best_fit\u001b[49m\u001b[43m(\u001b[49m\u001b[43mdatasets\u001b[49m\u001b[43m,\u001b[49m\u001b[43m \u001b[49m\u001b[43mparameter\u001b[49m\u001b[43m)\u001b[49m\n\u001b[1;32m    316\u001b[0m result\u001b[38;5;241m.\u001b[39mupdate(\u001b[38;5;28mself\u001b[39m\u001b[38;5;241m.\u001b[39mestimate_ts(datasets, parameter))\n\u001b[1;32m    318\u001b[0m \u001b[38;5;28;01mif\u001b[39;00m \u001b[38;5;124m\"\u001b[39m\u001b[38;5;124merrn-errp\u001b[39m\u001b[38;5;124m\"\u001b[39m \u001b[38;5;129;01min\u001b[39;00m \u001b[38;5;28mself\u001b[39m\u001b[38;5;241m.\u001b[39mselection_optional:\n",
      "File \u001b[0;32m~/opt/anaconda3/envs/gammapy-0.20.1/lib/python3.8/site-packages/gammapy/estimators/parameter.py:87\u001b[0m, in \u001b[0;36mParameterEstimator.estimate_best_fit\u001b[0;34m(self, datasets, parameter)\u001b[0m\n\u001b[1;32m     84\u001b[0m value, total_stat, success, error \u001b[38;5;241m=\u001b[39m np\u001b[38;5;241m.\u001b[39mnan, \u001b[38;5;241m0.0\u001b[39m, \u001b[38;5;28;01mFalse\u001b[39;00m, np\u001b[38;5;241m.\u001b[39mnan\n\u001b[1;32m     86\u001b[0m \u001b[38;5;28;01mif\u001b[39;00m np\u001b[38;5;241m.\u001b[39many(datasets\u001b[38;5;241m.\u001b[39mcontributes_to_stat):\n\u001b[0;32m---> 87\u001b[0m     result \u001b[38;5;241m=\u001b[39m \u001b[38;5;28;43mself\u001b[39;49m\u001b[38;5;241;43m.\u001b[39;49m\u001b[43mfit\u001b[49m\u001b[38;5;241;43m.\u001b[39;49m\u001b[43mrun\u001b[49m\u001b[43m(\u001b[49m\u001b[43mdatasets\u001b[49m\u001b[38;5;241;43m=\u001b[39;49m\u001b[43mdatasets\u001b[49m\u001b[43m)\u001b[49m\n\u001b[1;32m     88\u001b[0m     value, error \u001b[38;5;241m=\u001b[39m parameter\u001b[38;5;241m.\u001b[39mvalue, parameter\u001b[38;5;241m.\u001b[39merror\n\u001b[1;32m     89\u001b[0m     total_stat \u001b[38;5;241m=\u001b[39m result\u001b[38;5;241m.\u001b[39moptimize_result\u001b[38;5;241m.\u001b[39mtotal_stat\n",
      "File \u001b[0;32m~/opt/anaconda3/envs/gammapy-0.20.1/lib/python3.8/site-packages/gammapy/modeling/fit.py:158\u001b[0m, in \u001b[0;36mFit.run\u001b[0;34m(self, datasets)\u001b[0m\n\u001b[1;32m    145\u001b[0m \u001b[38;5;28;01mdef\u001b[39;00m \u001b[38;5;21mrun\u001b[39m(\u001b[38;5;28mself\u001b[39m, datasets):\n\u001b[1;32m    146\u001b[0m     \u001b[38;5;124;03m\"\"\"Run all fitting steps.\u001b[39;00m\n\u001b[1;32m    147\u001b[0m \n\u001b[1;32m    148\u001b[0m \u001b[38;5;124;03m    Parameters\u001b[39;00m\n\u001b[0;32m   (...)\u001b[0m\n\u001b[1;32m    156\u001b[0m \u001b[38;5;124;03m        Fit result\u001b[39;00m\n\u001b[1;32m    157\u001b[0m \u001b[38;5;124;03m    \"\"\"\u001b[39;00m\n\u001b[0;32m--> 158\u001b[0m     optimize_result \u001b[38;5;241m=\u001b[39m \u001b[38;5;28;43mself\u001b[39;49m\u001b[38;5;241;43m.\u001b[39;49m\u001b[43moptimize\u001b[49m\u001b[43m(\u001b[49m\u001b[43mdatasets\u001b[49m\u001b[38;5;241;43m=\u001b[39;49m\u001b[43mdatasets\u001b[49m\u001b[43m)\u001b[49m\n\u001b[1;32m    160\u001b[0m     \u001b[38;5;28;01mif\u001b[39;00m \u001b[38;5;28mself\u001b[39m\u001b[38;5;241m.\u001b[39mbackend \u001b[38;5;129;01mnot\u001b[39;00m \u001b[38;5;129;01min\u001b[39;00m registry\u001b[38;5;241m.\u001b[39mregister[\u001b[38;5;124m\"\u001b[39m\u001b[38;5;124mcovariance\u001b[39m\u001b[38;5;124m\"\u001b[39m]:\n\u001b[1;32m    161\u001b[0m         log\u001b[38;5;241m.\u001b[39mwarning(\u001b[38;5;124m\"\u001b[39m\u001b[38;5;124mNo covariance estimate - not supported by this backend.\u001b[39m\u001b[38;5;124m\"\u001b[39m)\n",
      "File \u001b[0;32m~/opt/anaconda3/envs/gammapy-0.20.1/lib/python3.8/site-packages/gammapy/modeling/fit.py:199\u001b[0m, in \u001b[0;36mFit.optimize\u001b[0;34m(self, datasets)\u001b[0m\n\u001b[1;32m    195\u001b[0m compute \u001b[38;5;241m=\u001b[39m registry\u001b[38;5;241m.\u001b[39mget(\u001b[38;5;124m\"\u001b[39m\u001b[38;5;124moptimize\u001b[39m\u001b[38;5;124m\"\u001b[39m, backend)\n\u001b[1;32m    196\u001b[0m \u001b[38;5;66;03m# TODO: change this calling interface!\u001b[39;00m\n\u001b[1;32m    197\u001b[0m \u001b[38;5;66;03m# probably should pass a fit statistic, which has a model, which has parameters\u001b[39;00m\n\u001b[1;32m    198\u001b[0m \u001b[38;5;66;03m# and return something simpler, not a tuple of three things\u001b[39;00m\n\u001b[0;32m--> 199\u001b[0m factors, info, optimizer \u001b[38;5;241m=\u001b[39m \u001b[43mcompute\u001b[49m\u001b[43m(\u001b[49m\n\u001b[1;32m    200\u001b[0m \u001b[43m    \u001b[49m\u001b[43mparameters\u001b[49m\u001b[38;5;241;43m=\u001b[39;49m\u001b[43mparameters\u001b[49m\u001b[43m,\u001b[49m\n\u001b[1;32m    201\u001b[0m \u001b[43m    \u001b[49m\u001b[43mfunction\u001b[49m\u001b[38;5;241;43m=\u001b[39;49m\u001b[43mdatasets\u001b[49m\u001b[38;5;241;43m.\u001b[39;49m\u001b[43mstat_sum\u001b[49m\u001b[43m,\u001b[49m\n\u001b[1;32m    202\u001b[0m \u001b[43m    \u001b[49m\u001b[43mstore_trace\u001b[49m\u001b[38;5;241;43m=\u001b[39;49m\u001b[38;5;28;43mself\u001b[39;49m\u001b[38;5;241;43m.\u001b[39;49m\u001b[43mstore_trace\u001b[49m\u001b[43m,\u001b[49m\n\u001b[1;32m    203\u001b[0m \u001b[43m    \u001b[49m\u001b[38;5;241;43m*\u001b[39;49m\u001b[38;5;241;43m*\u001b[39;49m\u001b[43mkwargs\u001b[49m\u001b[43m,\u001b[49m\n\u001b[1;32m    204\u001b[0m \u001b[43m\u001b[49m\u001b[43m)\u001b[49m\n\u001b[1;32m    206\u001b[0m \u001b[38;5;28;01mif\u001b[39;00m backend \u001b[38;5;241m==\u001b[39m \u001b[38;5;124m\"\u001b[39m\u001b[38;5;124mminuit\u001b[39m\u001b[38;5;124m\"\u001b[39m:\n\u001b[1;32m    207\u001b[0m     \u001b[38;5;28mself\u001b[39m\u001b[38;5;241m.\u001b[39m_minuit \u001b[38;5;241m=\u001b[39m optimizer\n",
      "File \u001b[0;32m~/opt/anaconda3/envs/gammapy-0.20.1/lib/python3.8/site-packages/gammapy/modeling/iminuit.py:79\u001b[0m, in \u001b[0;36moptimize_iminuit\u001b[0;34m(parameters, function, store_trace, **kwargs)\u001b[0m\n\u001b[1;32m     73\u001b[0m migrad_opts \u001b[38;5;241m=\u001b[39m kwargs\u001b[38;5;241m.\u001b[39mpop(\u001b[38;5;124m\"\u001b[39m\u001b[38;5;124mmigrad_opts\u001b[39m\u001b[38;5;124m\"\u001b[39m, {})\n\u001b[1;32m     75\u001b[0m minuit, minuit_func \u001b[38;5;241m=\u001b[39m setup_iminuit(\n\u001b[1;32m     76\u001b[0m     parameters\u001b[38;5;241m=\u001b[39mparameters, function\u001b[38;5;241m=\u001b[39mfunction, store_trace\u001b[38;5;241m=\u001b[39mstore_trace, \u001b[38;5;241m*\u001b[39m\u001b[38;5;241m*\u001b[39mkwargs\n\u001b[1;32m     77\u001b[0m )\n\u001b[0;32m---> 79\u001b[0m \u001b[43mminuit\u001b[49m\u001b[38;5;241;43m.\u001b[39;49m\u001b[43mmigrad\u001b[49m\u001b[43m(\u001b[49m\u001b[38;5;241;43m*\u001b[39;49m\u001b[38;5;241;43m*\u001b[39;49m\u001b[43mmigrad_opts\u001b[49m\u001b[43m)\u001b[49m\n\u001b[1;32m     81\u001b[0m factors \u001b[38;5;241m=\u001b[39m minuit\u001b[38;5;241m.\u001b[39mvalues\n\u001b[1;32m     82\u001b[0m info \u001b[38;5;241m=\u001b[39m {\n\u001b[1;32m     83\u001b[0m     \u001b[38;5;124m\"\u001b[39m\u001b[38;5;124msuccess\u001b[39m\u001b[38;5;124m\"\u001b[39m: minuit\u001b[38;5;241m.\u001b[39mvalid,\n\u001b[1;32m     84\u001b[0m     \u001b[38;5;124m\"\u001b[39m\u001b[38;5;124mnfev\u001b[39m\u001b[38;5;124m\"\u001b[39m: minuit\u001b[38;5;241m.\u001b[39mnfcn,\n\u001b[1;32m     85\u001b[0m     \u001b[38;5;124m\"\u001b[39m\u001b[38;5;124mmessage\u001b[39m\u001b[38;5;124m\"\u001b[39m: _get_message(minuit, parameters),\n\u001b[1;32m     86\u001b[0m     \u001b[38;5;124m\"\u001b[39m\u001b[38;5;124mtrace\u001b[39m\u001b[38;5;124m\"\u001b[39m: minuit_func\u001b[38;5;241m.\u001b[39mtrace,\n\u001b[1;32m     87\u001b[0m }\n",
      "File \u001b[0;32m~/opt/anaconda3/envs/gammapy-0.20.1/lib/python3.8/site-packages/iminuit/minuit.py:686\u001b[0m, in \u001b[0;36mMinuit.migrad\u001b[0;34m(self, ncall, iterate)\u001b[0m\n\u001b[1;32m    684\u001b[0m \u001b[38;5;28;01mif\u001b[39;00m \u001b[38;5;28mself\u001b[39m\u001b[38;5;241m.\u001b[39m_precision \u001b[38;5;129;01mis\u001b[39;00m \u001b[38;5;129;01mnot\u001b[39;00m \u001b[38;5;28;01mNone\u001b[39;00m:\n\u001b[1;32m    685\u001b[0m     migrad\u001b[38;5;241m.\u001b[39mprecision \u001b[38;5;241m=\u001b[39m \u001b[38;5;28mself\u001b[39m\u001b[38;5;241m.\u001b[39m_precision\n\u001b[0;32m--> 686\u001b[0m fm \u001b[38;5;241m=\u001b[39m \u001b[43mmigrad\u001b[49m\u001b[43m(\u001b[49m\u001b[43mncall\u001b[49m\u001b[43m,\u001b[49m\u001b[43m \u001b[49m\u001b[38;5;28;43mself\u001b[39;49m\u001b[38;5;241;43m.\u001b[39;49m\u001b[43m_tolerance\u001b[49m\u001b[43m)\u001b[49m\n\u001b[1;32m    687\u001b[0m \u001b[38;5;28;01mif\u001b[39;00m fm\u001b[38;5;241m.\u001b[39mis_valid \u001b[38;5;129;01mor\u001b[39;00m fm\u001b[38;5;241m.\u001b[39mhas_reached_call_limit:\n\u001b[1;32m    688\u001b[0m     \u001b[38;5;28;01mbreak\u001b[39;00m\n",
      "File \u001b[0;32m~/opt/anaconda3/envs/gammapy-0.20.1/lib/python3.8/site-packages/gammapy/modeling/iminuit.py:25\u001b[0m, in \u001b[0;36mMinuitLikelihood.fcn\u001b[0;34m(self, *factors)\u001b[0m\n\u001b[1;32m     22\u001b[0m \u001b[38;5;28;01mdef\u001b[39;00m \u001b[38;5;21mfcn\u001b[39m(\u001b[38;5;28mself\u001b[39m, \u001b[38;5;241m*\u001b[39mfactors):\n\u001b[1;32m     23\u001b[0m     \u001b[38;5;28mself\u001b[39m\u001b[38;5;241m.\u001b[39mparameters\u001b[38;5;241m.\u001b[39mset_parameter_factors(factors)\n\u001b[0;32m---> 25\u001b[0m     total_stat \u001b[38;5;241m=\u001b[39m \u001b[38;5;28;43mself\u001b[39;49m\u001b[38;5;241;43m.\u001b[39;49m\u001b[43mfunction\u001b[49m\u001b[43m(\u001b[49m\u001b[43m)\u001b[49m\n\u001b[1;32m     27\u001b[0m     \u001b[38;5;28;01mif\u001b[39;00m \u001b[38;5;28mself\u001b[39m\u001b[38;5;241m.\u001b[39mstore_trace:\n\u001b[1;32m     28\u001b[0m         \u001b[38;5;28mself\u001b[39m\u001b[38;5;241m.\u001b[39mstore_trace_iteration(total_stat)\n",
      "File \u001b[0;32m~/opt/anaconda3/envs/gammapy-0.20.1/lib/python3.8/site-packages/gammapy/datasets/core.py:224\u001b[0m, in \u001b[0;36mDatasets.stat_sum\u001b[0;34m(self)\u001b[0m\n\u001b[1;32m    222\u001b[0m \u001b[38;5;66;03m# TODO: add parallel evaluation of likelihoods\u001b[39;00m\n\u001b[1;32m    223\u001b[0m \u001b[38;5;28;01mfor\u001b[39;00m dataset \u001b[38;5;129;01min\u001b[39;00m \u001b[38;5;28mself\u001b[39m:\n\u001b[0;32m--> 224\u001b[0m     stat_sum \u001b[38;5;241m+\u001b[39m\u001b[38;5;241m=\u001b[39m \u001b[43mdataset\u001b[49m\u001b[38;5;241;43m.\u001b[39;49m\u001b[43mstat_sum\u001b[49m\u001b[43m(\u001b[49m\u001b[43m)\u001b[49m\n\u001b[1;32m    225\u001b[0m \u001b[38;5;28;01mreturn\u001b[39;00m stat_sum\n",
      "File \u001b[0;32m~/opt/anaconda3/envs/gammapy-0.20.1/lib/python3.8/site-packages/gammapy/datasets/map.py:1065\u001b[0m, in \u001b[0;36mMapDataset.stat_sum\u001b[0;34m(self)\u001b[0m\n\u001b[1;32m   1063\u001b[0m \u001b[38;5;28;01mdef\u001b[39;00m \u001b[38;5;21mstat_sum\u001b[39m(\u001b[38;5;28mself\u001b[39m):\n\u001b[1;32m   1064\u001b[0m     \u001b[38;5;124;03m\"\"\"Total likelihood given the current model parameters.\"\"\"\u001b[39;00m\n\u001b[0;32m-> 1065\u001b[0m     counts, npred \u001b[38;5;241m=\u001b[39m \u001b[38;5;28mself\u001b[39m\u001b[38;5;241m.\u001b[39mcounts\u001b[38;5;241m.\u001b[39mdata\u001b[38;5;241m.\u001b[39mastype(\u001b[38;5;28mfloat\u001b[39m), \u001b[38;5;28;43mself\u001b[39;49m\u001b[38;5;241;43m.\u001b[39;49m\u001b[43mnpred\u001b[49m\u001b[43m(\u001b[49m\u001b[43m)\u001b[49m\u001b[38;5;241m.\u001b[39mdata\n\u001b[1;32m   1067\u001b[0m     \u001b[38;5;28;01mif\u001b[39;00m \u001b[38;5;28mself\u001b[39m\u001b[38;5;241m.\u001b[39mmask \u001b[38;5;129;01mis\u001b[39;00m \u001b[38;5;129;01mnot\u001b[39;00m \u001b[38;5;28;01mNone\u001b[39;00m:\n\u001b[1;32m   1068\u001b[0m         \u001b[38;5;28;01mreturn\u001b[39;00m cash_sum_cython(counts[\u001b[38;5;28mself\u001b[39m\u001b[38;5;241m.\u001b[39mmask\u001b[38;5;241m.\u001b[39mdata], npred[\u001b[38;5;28mself\u001b[39m\u001b[38;5;241m.\u001b[39mmask\u001b[38;5;241m.\u001b[39mdata])\n",
      "File \u001b[0;32m~/opt/anaconda3/envs/gammapy-0.20.1/lib/python3.8/site-packages/gammapy/datasets/map.py:432\u001b[0m, in \u001b[0;36mMapDataset.npred\u001b[0;34m(self)\u001b[0m\n\u001b[1;32m    424\u001b[0m \u001b[38;5;28;01mdef\u001b[39;00m \u001b[38;5;21mnpred\u001b[39m(\u001b[38;5;28mself\u001b[39m):\n\u001b[1;32m    425\u001b[0m     \u001b[38;5;124;03m\"\"\"Total predicted source and background counts\u001b[39;00m\n\u001b[1;32m    426\u001b[0m \n\u001b[1;32m    427\u001b[0m \u001b[38;5;124;03m    Returns\u001b[39;00m\n\u001b[0;32m   (...)\u001b[0m\n\u001b[1;32m    430\u001b[0m \u001b[38;5;124;03m        Total predicted counts\u001b[39;00m\n\u001b[1;32m    431\u001b[0m \u001b[38;5;124;03m    \"\"\"\u001b[39;00m\n\u001b[0;32m--> 432\u001b[0m     npred_total \u001b[38;5;241m=\u001b[39m \u001b[38;5;28;43mself\u001b[39;49m\u001b[38;5;241;43m.\u001b[39;49m\u001b[43mnpred_signal\u001b[49m\u001b[43m(\u001b[49m\u001b[43m)\u001b[49m\n\u001b[1;32m    434\u001b[0m     \u001b[38;5;28;01mif\u001b[39;00m \u001b[38;5;28mself\u001b[39m\u001b[38;5;241m.\u001b[39mbackground:\n\u001b[1;32m    435\u001b[0m         npred_total \u001b[38;5;241m+\u001b[39m\u001b[38;5;241m=\u001b[39m \u001b[38;5;28mself\u001b[39m\u001b[38;5;241m.\u001b[39mnpred_background()\n",
      "File \u001b[0;32m~/opt/anaconda3/envs/gammapy-0.20.1/lib/python3.8/site-packages/gammapy/datasets/map.py:509\u001b[0m, in \u001b[0;36mMapDataset.npred_signal\u001b[0;34m(self, model_name)\u001b[0m\n\u001b[1;32m    500\u001b[0m         evaluator\u001b[38;5;241m.\u001b[39mupdate(\n\u001b[1;32m    501\u001b[0m             \u001b[38;5;28mself\u001b[39m\u001b[38;5;241m.\u001b[39mexposure,\n\u001b[1;32m    502\u001b[0m             \u001b[38;5;28mself\u001b[39m\u001b[38;5;241m.\u001b[39mpsf,\n\u001b[0;32m   (...)\u001b[0m\n\u001b[1;32m    505\u001b[0m             \u001b[38;5;28mself\u001b[39m\u001b[38;5;241m.\u001b[39mmask_image,\n\u001b[1;32m    506\u001b[0m         )\n\u001b[1;32m    508\u001b[0m     \u001b[38;5;28;01mif\u001b[39;00m evaluator\u001b[38;5;241m.\u001b[39mcontributes:\n\u001b[0;32m--> 509\u001b[0m         npred \u001b[38;5;241m=\u001b[39m \u001b[43mevaluator\u001b[49m\u001b[38;5;241;43m.\u001b[39;49m\u001b[43mcompute_npred\u001b[49m\u001b[43m(\u001b[49m\u001b[43m)\u001b[49m\n\u001b[1;32m    510\u001b[0m         npred_total\u001b[38;5;241m.\u001b[39mstack(npred)\n\u001b[1;32m    512\u001b[0m \u001b[38;5;28;01mreturn\u001b[39;00m npred_total\n",
      "File \u001b[0;32m~/opt/anaconda3/envs/gammapy-0.20.1/lib/python3.8/site-packages/gammapy/datasets/evaluator.py:382\u001b[0m, in \u001b[0;36mMapEvaluator.compute_npred\u001b[0;34m(self)\u001b[0m\n\u001b[1;32m    379\u001b[0m \u001b[38;5;28;01mif\u001b[39;00m \u001b[38;5;28mself\u001b[39m\u001b[38;5;241m.\u001b[39mparameters_changed \u001b[38;5;129;01mor\u001b[39;00m \u001b[38;5;129;01mnot\u001b[39;00m \u001b[38;5;28mself\u001b[39m\u001b[38;5;241m.\u001b[39muse_cache:\n\u001b[1;32m    380\u001b[0m     \u001b[38;5;28;01mdel\u001b[39;00m \u001b[38;5;28mself\u001b[39m\u001b[38;5;241m.\u001b[39m_compute_npred\n\u001b[0;32m--> 382\u001b[0m \u001b[38;5;28;01mreturn\u001b[39;00m \u001b[38;5;28;43mself\u001b[39;49m\u001b[38;5;241;43m.\u001b[39;49m\u001b[43m_compute_npred\u001b[49m\n",
      "File \u001b[0;32m~/opt/anaconda3/envs/gammapy-0.20.1/lib/python3.8/site-packages/astropy/utils/decorators.py:777\u001b[0m, in \u001b[0;36mlazyproperty.__get__\u001b[0;34m(self, obj, owner)\u001b[0m\n\u001b[1;32m    775\u001b[0m         val \u001b[38;5;241m=\u001b[39m obj_dict\u001b[38;5;241m.\u001b[39mget(\u001b[38;5;28mself\u001b[39m\u001b[38;5;241m.\u001b[39m_key, _NotFound)\n\u001b[1;32m    776\u001b[0m         \u001b[38;5;28;01mif\u001b[39;00m val \u001b[38;5;129;01mis\u001b[39;00m _NotFound:\n\u001b[0;32m--> 777\u001b[0m             val \u001b[38;5;241m=\u001b[39m \u001b[38;5;28;43mself\u001b[39;49m\u001b[38;5;241;43m.\u001b[39;49m\u001b[43mfget\u001b[49m\u001b[43m(\u001b[49m\u001b[43mobj\u001b[49m\u001b[43m)\u001b[49m\n\u001b[1;32m    778\u001b[0m             obj_dict[\u001b[38;5;28mself\u001b[39m\u001b[38;5;241m.\u001b[39m_key] \u001b[38;5;241m=\u001b[39m val\n\u001b[1;32m    779\u001b[0m \u001b[38;5;28;01mreturn\u001b[39;00m val\n",
      "File \u001b[0;32m~/opt/anaconda3/envs/gammapy-0.20.1/lib/python3.8/site-packages/gammapy/datasets/evaluator.py:358\u001b[0m, in \u001b[0;36mMapEvaluator._compute_npred\u001b[0;34m(self)\u001b[0m\n\u001b[1;32m    356\u001b[0m \u001b[38;5;28;01mif\u001b[39;00m \u001b[38;5;129;01mnot\u001b[39;00m \u001b[38;5;28mself\u001b[39m\u001b[38;5;241m.\u001b[39mparameter_norm_only_changed:\n\u001b[1;32m    357\u001b[0m     \u001b[38;5;28;01mfor\u001b[39;00m method \u001b[38;5;129;01min\u001b[39;00m \u001b[38;5;28mself\u001b[39m\u001b[38;5;241m.\u001b[39mmethods_sequence:\n\u001b[0;32m--> 358\u001b[0m         values \u001b[38;5;241m=\u001b[39m \u001b[43mmethod\u001b[49m\u001b[43m(\u001b[49m\u001b[38;5;28;43mself\u001b[39;49m\u001b[38;5;241;43m.\u001b[39;49m\u001b[43m_computation_cache\u001b[49m\u001b[43m)\u001b[49m\n\u001b[1;32m    359\u001b[0m         \u001b[38;5;28mself\u001b[39m\u001b[38;5;241m.\u001b[39m_computation_cache \u001b[38;5;241m=\u001b[39m values\n\u001b[1;32m    360\u001b[0m     npred \u001b[38;5;241m=\u001b[39m \u001b[38;5;28mself\u001b[39m\u001b[38;5;241m.\u001b[39m_computation_cache\n",
      "File \u001b[0;32m~/opt/anaconda3/envs/gammapy-0.20.1/lib/python3.8/site-packages/gammapy/datasets/evaluator.py:252\u001b[0m, in \u001b[0;36mMapEvaluator.compute_flux_psf_convolved\u001b[0;34m(self, *arg)\u001b[0m\n\u001b[1;32m    249\u001b[0m \u001b[38;5;28;01mif\u001b[39;00m \u001b[38;5;28mself\u001b[39m\u001b[38;5;241m.\u001b[39mmodel\u001b[38;5;241m.\u001b[39mtemporal_model:\n\u001b[1;32m    250\u001b[0m     value \u001b[38;5;241m*\u001b[39m\u001b[38;5;241m=\u001b[39m \u001b[38;5;28mself\u001b[39m\u001b[38;5;241m.\u001b[39mcompute_temporal_norm()\n\u001b[0;32m--> 252\u001b[0m \u001b[38;5;28;01mreturn\u001b[39;00m \u001b[43mMap\u001b[49m\u001b[38;5;241;43m.\u001b[39;49m\u001b[43mfrom_geom\u001b[49m\u001b[43m(\u001b[49m\u001b[43mgeom\u001b[49m\u001b[38;5;241;43m=\u001b[39;49m\u001b[38;5;28;43mself\u001b[39;49m\u001b[38;5;241;43m.\u001b[39;49m\u001b[43mgeom\u001b[49m\u001b[43m,\u001b[49m\u001b[43m \u001b[49m\u001b[43mdata\u001b[49m\u001b[38;5;241;43m=\u001b[39;49m\u001b[43mvalue\u001b[49m\u001b[38;5;241;43m.\u001b[39;49m\u001b[43mvalue\u001b[49m\u001b[43m,\u001b[49m\u001b[43m \u001b[49m\u001b[43munit\u001b[49m\u001b[38;5;241;43m=\u001b[39;49m\u001b[43mvalue\u001b[49m\u001b[38;5;241;43m.\u001b[39;49m\u001b[43munit\u001b[49m\u001b[43m)\u001b[49m\n",
      "File \u001b[0;32m~/opt/anaconda3/envs/gammapy-0.20.1/lib/python3.8/site-packages/gammapy/maps/core.py:257\u001b[0m, in \u001b[0;36mMap.from_geom\u001b[0;34m(geom, meta, data, unit, dtype)\u001b[0m\n\u001b[1;32m    254\u001b[0m     \u001b[38;5;28;01mraise\u001b[39;00m \u001b[38;5;167;01mValueError\u001b[39;00m(\u001b[38;5;124m\"\u001b[39m\u001b[38;5;124mUnrecognized geom type.\u001b[39m\u001b[38;5;124m\"\u001b[39m)\n\u001b[1;32m    256\u001b[0m cls_out \u001b[38;5;241m=\u001b[39m Map\u001b[38;5;241m.\u001b[39m_get_map_cls(map_type)\n\u001b[0;32m--> 257\u001b[0m \u001b[38;5;28;01mreturn\u001b[39;00m \u001b[43mcls_out\u001b[49m\u001b[43m(\u001b[49m\u001b[43mgeom\u001b[49m\u001b[43m,\u001b[49m\u001b[43m \u001b[49m\u001b[43mdata\u001b[49m\u001b[38;5;241;43m=\u001b[39;49m\u001b[43mdata\u001b[49m\u001b[43m,\u001b[49m\u001b[43m \u001b[49m\u001b[43mmeta\u001b[49m\u001b[38;5;241;43m=\u001b[39;49m\u001b[43mmeta\u001b[49m\u001b[43m,\u001b[49m\u001b[43m \u001b[49m\u001b[43munit\u001b[49m\u001b[38;5;241;43m=\u001b[39;49m\u001b[43munit\u001b[49m\u001b[43m,\u001b[49m\u001b[43m \u001b[49m\u001b[43mdtype\u001b[49m\u001b[38;5;241;43m=\u001b[39;49m\u001b[43mdtype\u001b[49m\u001b[43m)\u001b[49m\n",
      "File \u001b[0;32m~/opt/anaconda3/envs/gammapy-0.20.1/lib/python3.8/site-packages/gammapy/maps/wcs/ndmap.py:64\u001b[0m, in \u001b[0;36mWcsNDMap.__init__\u001b[0;34m(self, geom, data, dtype, meta, unit)\u001b[0m\n\u001b[1;32m     61\u001b[0m \u001b[38;5;28;01mif\u001b[39;00m data \u001b[38;5;129;01mis\u001b[39;00m \u001b[38;5;28;01mNone\u001b[39;00m:\n\u001b[1;32m     62\u001b[0m     data \u001b[38;5;241m=\u001b[39m \u001b[38;5;28mself\u001b[39m\u001b[38;5;241m.\u001b[39m_make_default_data(geom, data_shape, dtype)\n\u001b[0;32m---> 64\u001b[0m \u001b[38;5;28;43msuper\u001b[39;49m\u001b[43m(\u001b[49m\u001b[43m)\u001b[49m\u001b[38;5;241;43m.\u001b[39;49m\u001b[38;5;21;43m__init__\u001b[39;49m\u001b[43m(\u001b[49m\u001b[43mgeom\u001b[49m\u001b[43m,\u001b[49m\u001b[43m \u001b[49m\u001b[43mdata\u001b[49m\u001b[43m,\u001b[49m\u001b[43m \u001b[49m\u001b[43mmeta\u001b[49m\u001b[43m,\u001b[49m\u001b[43m \u001b[49m\u001b[43munit\u001b[49m\u001b[43m)\u001b[49m\n",
      "File \u001b[0;32m~/opt/anaconda3/envs/gammapy-0.20.1/lib/python3.8/site-packages/gammapy/maps/core.py:47\u001b[0m, in \u001b[0;36mMap.__init__\u001b[0;34m(self, geom, data, meta, unit)\u001b[0m\n\u001b[1;32m     45\u001b[0m     \u001b[38;5;28mself\u001b[39m\u001b[38;5;241m.\u001b[39mquantity \u001b[38;5;241m=\u001b[39m data\n\u001b[1;32m     46\u001b[0m \u001b[38;5;28;01melse\u001b[39;00m:\n\u001b[0;32m---> 47\u001b[0m     \u001b[38;5;28mself\u001b[39m\u001b[38;5;241m.\u001b[39mdata \u001b[38;5;241m=\u001b[39m data\n\u001b[1;32m     48\u001b[0m     \u001b[38;5;28mself\u001b[39m\u001b[38;5;241m.\u001b[39m_unit \u001b[38;5;241m=\u001b[39m u\u001b[38;5;241m.\u001b[39mUnit(unit)\n\u001b[1;32m     50\u001b[0m \u001b[38;5;28;01mif\u001b[39;00m meta \u001b[38;5;129;01mis\u001b[39;00m \u001b[38;5;28;01mNone\u001b[39;00m:\n",
      "File \u001b[0;32m~/opt/anaconda3/envs/gammapy-0.20.1/lib/python3.8/site-packages/gammapy/maps/core.py:98\u001b[0m, in \u001b[0;36mMap.data\u001b[0;34m(self, value)\u001b[0m\n\u001b[1;32m     95\u001b[0m     \u001b[38;5;28;01mraise\u001b[39;00m \u001b[38;5;167;01mTypeError\u001b[39;00m(\u001b[38;5;124m\"\u001b[39m\u001b[38;5;124mMap data must be a Numpy array. Set unit separately\u001b[39m\u001b[38;5;124m\"\u001b[39m)\n\u001b[1;32m     97\u001b[0m \u001b[38;5;28;01mif\u001b[39;00m \u001b[38;5;129;01mnot\u001b[39;00m value\u001b[38;5;241m.\u001b[39mshape \u001b[38;5;241m==\u001b[39m \u001b[38;5;28mself\u001b[39m\u001b[38;5;241m.\u001b[39mgeom\u001b[38;5;241m.\u001b[39mdata_shape:\n\u001b[0;32m---> 98\u001b[0m     value \u001b[38;5;241m=\u001b[39m \u001b[43mvalue\u001b[49m\u001b[38;5;241;43m.\u001b[39;49m\u001b[43mreshape\u001b[49m\u001b[43m(\u001b[49m\u001b[38;5;28;43mself\u001b[39;49m\u001b[38;5;241;43m.\u001b[39;49m\u001b[43mgeom\u001b[49m\u001b[38;5;241;43m.\u001b[39;49m\u001b[43mdata_shape\u001b[49m\u001b[43m)\u001b[49m\n\u001b[1;32m    100\u001b[0m \u001b[38;5;28mself\u001b[39m\u001b[38;5;241m.\u001b[39m_data \u001b[38;5;241m=\u001b[39m value\n",
      "\u001b[0;31mValueError\u001b[0m: cannot reshape array of size 80 into shape (80,400,400)"
     ]
    }
   ],
   "source": [
    "from gammapy.estimators import LightCurveEstimator\n",
    "\n",
    "lc_maker_1d = LightCurveEstimator(\n",
    "    energy_edges=[0.1, 0.3, 0.6, 1.0, 5, 10] * u.TeV,\n",
    "    source=\"model-fit\",\n",
    "    selection_optional=[\"ul\"],\n",
    ")\n",
    "lc_1d = lc_maker_1d.run(dataset)"
   ]
  },
  {
   "cell_type": "code",
   "execution_count": null,
   "metadata": {},
   "outputs": [],
   "source": []
  }
 ],
 "metadata": {
  "kernelspec": {
   "display_name": "Python 3 (ipykernel)",
   "language": "python",
   "name": "python3"
  },
  "language_info": {
   "codemirror_mode": {
    "name": "ipython",
    "version": 3
   },
   "file_extension": ".py",
   "mimetype": "text/x-python",
   "name": "python",
   "nbconvert_exporter": "python",
   "pygments_lexer": "ipython3",
   "version": "3.8.13"
  }
 },
 "nbformat": 4,
 "nbformat_minor": 4
}
